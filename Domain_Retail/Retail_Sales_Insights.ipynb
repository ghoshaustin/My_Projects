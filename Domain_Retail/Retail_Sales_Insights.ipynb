{
 "cells": [
  {
   "cell_type": "markdown",
   "id": "b2814e5f",
   "metadata": {},
   "source": [
    "# Capstone Project (Retail Domain)\n",
    "                                Project Name: Retail_Sales_Insights\n",
    "                                    Prepared by: Bishowjith Ghosh\n",
    "                                        Date: September 2024\n",
    "                                  Master’s Program in Data Science"
   ]
  },
  {
   "cell_type": "code",
   "execution_count": 1,
   "id": "ed2c6c62",
   "metadata": {},
   "outputs": [],
   "source": [
    "# Importing required libraries for data cleaning and transformation\n",
    "import pandas as pd\n",
    "import numpy as np\n",
    "import matplotlib.pyplot as plt\n",
    "import seaborn as sns"
   ]
  },
  {
   "cell_type": "markdown",
   "id": "a8f4adfd",
   "metadata": {},
   "source": [
    "# Load the dataset "
   ]
  },
  {
   "cell_type": "code",
   "execution_count": 2,
   "id": "9d0e3661",
   "metadata": {},
   "outputs": [
    {
     "data": {
      "text/html": [
       "<div>\n",
       "<style scoped>\n",
       "    .dataframe tbody tr th:only-of-type {\n",
       "        vertical-align: middle;\n",
       "    }\n",
       "\n",
       "    .dataframe tbody tr th {\n",
       "        vertical-align: top;\n",
       "    }\n",
       "\n",
       "    .dataframe thead th {\n",
       "        text-align: right;\n",
       "    }\n",
       "</style>\n",
       "<table border=\"1\" class=\"dataframe\">\n",
       "  <thead>\n",
       "    <tr style=\"text-align: right;\">\n",
       "      <th></th>\n",
       "      <th>Transaction_ID</th>\n",
       "      <th>Customer_ID</th>\n",
       "      <th>Name</th>\n",
       "      <th>Email</th>\n",
       "      <th>Phone</th>\n",
       "      <th>Address</th>\n",
       "      <th>City</th>\n",
       "      <th>State</th>\n",
       "      <th>Zipcode</th>\n",
       "      <th>Country</th>\n",
       "      <th>...</th>\n",
       "      <th>Total_Amount</th>\n",
       "      <th>Product_Category</th>\n",
       "      <th>Product_Brand</th>\n",
       "      <th>Product_Type</th>\n",
       "      <th>Feedback</th>\n",
       "      <th>Shipping_Method</th>\n",
       "      <th>Payment_Method</th>\n",
       "      <th>Order_Status</th>\n",
       "      <th>Ratings</th>\n",
       "      <th>products</th>\n",
       "    </tr>\n",
       "  </thead>\n",
       "  <tbody>\n",
       "    <tr>\n",
       "      <th>0</th>\n",
       "      <td>8691788.0</td>\n",
       "      <td>37249.0</td>\n",
       "      <td>Michelle Harrington</td>\n",
       "      <td>Ebony39@gmail.com</td>\n",
       "      <td>1.414787e+09</td>\n",
       "      <td>3959 Amanda Burgs</td>\n",
       "      <td>Dortmund</td>\n",
       "      <td>Berlin</td>\n",
       "      <td>77985.0</td>\n",
       "      <td>Germany</td>\n",
       "      <td>...</td>\n",
       "      <td>324.086270</td>\n",
       "      <td>Clothing</td>\n",
       "      <td>Nike</td>\n",
       "      <td>Shorts</td>\n",
       "      <td>Excellent</td>\n",
       "      <td>Same-Day</td>\n",
       "      <td>Debit Card</td>\n",
       "      <td>Shipped</td>\n",
       "      <td>5.0</td>\n",
       "      <td>Cycling shorts</td>\n",
       "    </tr>\n",
       "    <tr>\n",
       "      <th>1</th>\n",
       "      <td>2174773.0</td>\n",
       "      <td>69749.0</td>\n",
       "      <td>Kelsey Hill</td>\n",
       "      <td>Mark36@gmail.com</td>\n",
       "      <td>6.852900e+09</td>\n",
       "      <td>82072 Dawn Centers</td>\n",
       "      <td>Nottingham</td>\n",
       "      <td>England</td>\n",
       "      <td>99071.0</td>\n",
       "      <td>UK</td>\n",
       "      <td>...</td>\n",
       "      <td>806.707815</td>\n",
       "      <td>Electronics</td>\n",
       "      <td>Samsung</td>\n",
       "      <td>Tablet</td>\n",
       "      <td>Excellent</td>\n",
       "      <td>Standard</td>\n",
       "      <td>Credit Card</td>\n",
       "      <td>Processing</td>\n",
       "      <td>4.0</td>\n",
       "      <td>Lenovo Tab</td>\n",
       "    </tr>\n",
       "    <tr>\n",
       "      <th>2</th>\n",
       "      <td>6679610.0</td>\n",
       "      <td>30192.0</td>\n",
       "      <td>Scott Jensen</td>\n",
       "      <td>Shane85@gmail.com</td>\n",
       "      <td>8.362160e+09</td>\n",
       "      <td>4133 Young Canyon</td>\n",
       "      <td>Geelong</td>\n",
       "      <td>New South Wales</td>\n",
       "      <td>75929.0</td>\n",
       "      <td>Australia</td>\n",
       "      <td>...</td>\n",
       "      <td>1063.432799</td>\n",
       "      <td>Books</td>\n",
       "      <td>Penguin Books</td>\n",
       "      <td>Children's</td>\n",
       "      <td>Average</td>\n",
       "      <td>Same-Day</td>\n",
       "      <td>Credit Card</td>\n",
       "      <td>Processing</td>\n",
       "      <td>2.0</td>\n",
       "      <td>Sports equipment</td>\n",
       "    </tr>\n",
       "    <tr>\n",
       "      <th>3</th>\n",
       "      <td>7232460.0</td>\n",
       "      <td>62101.0</td>\n",
       "      <td>Joseph Miller</td>\n",
       "      <td>Mary34@gmail.com</td>\n",
       "      <td>2.776752e+09</td>\n",
       "      <td>8148 Thomas Creek Suite 100</td>\n",
       "      <td>Edmonton</td>\n",
       "      <td>Ontario</td>\n",
       "      <td>88420.0</td>\n",
       "      <td>Canada</td>\n",
       "      <td>...</td>\n",
       "      <td>2466.854021</td>\n",
       "      <td>Home Decor</td>\n",
       "      <td>Home Depot</td>\n",
       "      <td>Tools</td>\n",
       "      <td>Excellent</td>\n",
       "      <td>Standard</td>\n",
       "      <td>PayPal</td>\n",
       "      <td>Processing</td>\n",
       "      <td>4.0</td>\n",
       "      <td>Utility knife</td>\n",
       "    </tr>\n",
       "    <tr>\n",
       "      <th>4</th>\n",
       "      <td>4983775.0</td>\n",
       "      <td>27901.0</td>\n",
       "      <td>Debra Coleman</td>\n",
       "      <td>Charles30@gmail.com</td>\n",
       "      <td>9.098268e+09</td>\n",
       "      <td>5813 Lori Ports Suite 269</td>\n",
       "      <td>Bristol</td>\n",
       "      <td>England</td>\n",
       "      <td>48704.0</td>\n",
       "      <td>UK</td>\n",
       "      <td>...</td>\n",
       "      <td>248.553049</td>\n",
       "      <td>Grocery</td>\n",
       "      <td>Nestle</td>\n",
       "      <td>Chocolate</td>\n",
       "      <td>Bad</td>\n",
       "      <td>Standard</td>\n",
       "      <td>Cash</td>\n",
       "      <td>Shipped</td>\n",
       "      <td>1.0</td>\n",
       "      <td>Chocolate cookies</td>\n",
       "    </tr>\n",
       "  </tbody>\n",
       "</table>\n",
       "<p>5 rows × 30 columns</p>\n",
       "</div>"
      ],
      "text/plain": [
       "   Transaction_ID  Customer_ID                 Name                Email  \\\n",
       "0       8691788.0      37249.0  Michelle Harrington    Ebony39@gmail.com   \n",
       "1       2174773.0      69749.0          Kelsey Hill     Mark36@gmail.com   \n",
       "2       6679610.0      30192.0         Scott Jensen    Shane85@gmail.com   \n",
       "3       7232460.0      62101.0        Joseph Miller     Mary34@gmail.com   \n",
       "4       4983775.0      27901.0        Debra Coleman  Charles30@gmail.com   \n",
       "\n",
       "          Phone                      Address        City            State  \\\n",
       "0  1.414787e+09            3959 Amanda Burgs    Dortmund           Berlin   \n",
       "1  6.852900e+09           82072 Dawn Centers  Nottingham          England   \n",
       "2  8.362160e+09            4133 Young Canyon     Geelong  New South Wales   \n",
       "3  2.776752e+09  8148 Thomas Creek Suite 100    Edmonton          Ontario   \n",
       "4  9.098268e+09    5813 Lori Ports Suite 269     Bristol          England   \n",
       "\n",
       "   Zipcode    Country  ...  Total_Amount Product_Category  Product_Brand  \\\n",
       "0  77985.0    Germany  ...    324.086270         Clothing           Nike   \n",
       "1  99071.0         UK  ...    806.707815      Electronics        Samsung   \n",
       "2  75929.0  Australia  ...   1063.432799            Books  Penguin Books   \n",
       "3  88420.0     Canada  ...   2466.854021       Home Decor     Home Depot   \n",
       "4  48704.0         UK  ...    248.553049          Grocery         Nestle   \n",
       "\n",
       "  Product_Type   Feedback  Shipping_Method Payment_Method Order_Status  \\\n",
       "0       Shorts  Excellent         Same-Day     Debit Card      Shipped   \n",
       "1       Tablet  Excellent         Standard    Credit Card   Processing   \n",
       "2   Children's    Average         Same-Day    Credit Card   Processing   \n",
       "3        Tools  Excellent         Standard         PayPal   Processing   \n",
       "4    Chocolate        Bad         Standard           Cash      Shipped   \n",
       "\n",
       "   Ratings           products  \n",
       "0      5.0     Cycling shorts  \n",
       "1      4.0         Lenovo Tab  \n",
       "2      2.0   Sports equipment  \n",
       "3      4.0      Utility knife  \n",
       "4      1.0  Chocolate cookies  \n",
       "\n",
       "[5 rows x 30 columns]"
      ]
     },
     "execution_count": 2,
     "metadata": {},
     "output_type": "execute_result"
    }
   ],
   "source": [
    "file_path = \"retail_data.csv\"\n",
    "df = pd.read_csv(file_path)\n",
    "\n",
    "# Display the first few rows of the dataset to understand its structure\n",
    "df.head()"
   ]
  },
  {
   "cell_type": "code",
   "execution_count": 3,
   "id": "d8dbbddb",
   "metadata": {},
   "outputs": [
    {
     "data": {
      "text/plain": [
       "Index(['Transaction_ID', 'Customer_ID', 'Name', 'Email', 'Phone', 'Address',\n",
       "       'City', 'State', 'Zipcode', 'Country', 'Age', 'Gender', 'Income',\n",
       "       'Customer_Segment', 'Date', 'Year', 'Month', 'Time', 'Total_Purchases',\n",
       "       'Amount', 'Total_Amount', 'Product_Category', 'Product_Brand',\n",
       "       'Product_Type', 'Feedback', 'Shipping_Method', 'Payment_Method',\n",
       "       'Order_Status', 'Ratings', 'products'],\n",
       "      dtype='object')"
      ]
     },
     "execution_count": 3,
     "metadata": {},
     "output_type": "execute_result"
    }
   ],
   "source": [
    "df.columns"
   ]
  },
  {
   "cell_type": "code",
   "execution_count": 4,
   "id": "e8300635",
   "metadata": {},
   "outputs": [
    {
     "name": "stdout",
     "output_type": "stream",
     "text": [
      "<class 'pandas.core.frame.DataFrame'>\n",
      "RangeIndex: 302010 entries, 0 to 302009\n",
      "Data columns (total 30 columns):\n",
      " #   Column            Non-Null Count   Dtype  \n",
      "---  ------            --------------   -----  \n",
      " 0   Transaction_ID    301677 non-null  float64\n",
      " 1   Customer_ID       301702 non-null  float64\n",
      " 2   Name              301628 non-null  object \n",
      " 3   Email             301663 non-null  object \n",
      " 4   Phone             301648 non-null  float64\n",
      " 5   Address           301695 non-null  object \n",
      " 6   City              301762 non-null  object \n",
      " 7   State             301729 non-null  object \n",
      " 8   Zipcode           301670 non-null  float64\n",
      " 9   Country           301739 non-null  object \n",
      " 10  Age               301837 non-null  float64\n",
      " 11  Gender            301693 non-null  object \n",
      " 12  Income            301720 non-null  object \n",
      " 13  Customer_Segment  301795 non-null  object \n",
      " 14  Date              301651 non-null  object \n",
      " 15  Year              301660 non-null  float64\n",
      " 16  Month             301737 non-null  object \n",
      " 17  Time              301660 non-null  object \n",
      " 18  Total_Purchases   301649 non-null  float64\n",
      " 19  Amount            301653 non-null  float64\n",
      " 20  Total_Amount      301660 non-null  float64\n",
      " 21  Product_Category  301727 non-null  object \n",
      " 22  Product_Brand     301729 non-null  object \n",
      " 23  Product_Type      302010 non-null  object \n",
      " 24  Feedback          301826 non-null  object \n",
      " 25  Shipping_Method   301673 non-null  object \n",
      " 26  Payment_Method    301713 non-null  object \n",
      " 27  Order_Status      301775 non-null  object \n",
      " 28  Ratings           301826 non-null  float64\n",
      " 29  products          302010 non-null  object \n",
      "dtypes: float64(10), object(20)\n",
      "memory usage: 69.1+ MB\n"
     ]
    }
   ],
   "source": [
    "df.info()"
   ]
  },
  {
   "cell_type": "code",
   "execution_count": 5,
   "id": "b8192f27",
   "metadata": {},
   "outputs": [
    {
     "data": {
      "text/html": [
       "<div>\n",
       "<style scoped>\n",
       "    .dataframe tbody tr th:only-of-type {\n",
       "        vertical-align: middle;\n",
       "    }\n",
       "\n",
       "    .dataframe tbody tr th {\n",
       "        vertical-align: top;\n",
       "    }\n",
       "\n",
       "    .dataframe thead th {\n",
       "        text-align: right;\n",
       "    }\n",
       "</style>\n",
       "<table border=\"1\" class=\"dataframe\">\n",
       "  <thead>\n",
       "    <tr style=\"text-align: right;\">\n",
       "      <th></th>\n",
       "      <th>Transaction_ID</th>\n",
       "      <th>Customer_ID</th>\n",
       "      <th>Phone</th>\n",
       "      <th>Zipcode</th>\n",
       "      <th>Age</th>\n",
       "      <th>Year</th>\n",
       "      <th>Total_Purchases</th>\n",
       "      <th>Amount</th>\n",
       "      <th>Total_Amount</th>\n",
       "      <th>Ratings</th>\n",
       "    </tr>\n",
       "  </thead>\n",
       "  <tbody>\n",
       "    <tr>\n",
       "      <th>count</th>\n",
       "      <td>3.016770e+05</td>\n",
       "      <td>301702.000000</td>\n",
       "      <td>3.016480e+05</td>\n",
       "      <td>301670.000000</td>\n",
       "      <td>301837.000000</td>\n",
       "      <td>301660.000000</td>\n",
       "      <td>301649.000000</td>\n",
       "      <td>301653.000000</td>\n",
       "      <td>301660.000000</td>\n",
       "      <td>301826.000000</td>\n",
       "    </tr>\n",
       "    <tr>\n",
       "      <th>mean</th>\n",
       "      <td>5.495823e+06</td>\n",
       "      <td>55006.553934</td>\n",
       "      <td>5.501464e+09</td>\n",
       "      <td>50298.951019</td>\n",
       "      <td>35.481326</td>\n",
       "      <td>2023.165113</td>\n",
       "      <td>5.359729</td>\n",
       "      <td>255.163659</td>\n",
       "      <td>1367.651156</td>\n",
       "      <td>3.162670</td>\n",
       "    </tr>\n",
       "    <tr>\n",
       "      <th>std</th>\n",
       "      <td>2.595565e+06</td>\n",
       "      <td>26005.675200</td>\n",
       "      <td>2.596017e+09</td>\n",
       "      <td>28972.807134</td>\n",
       "      <td>15.021933</td>\n",
       "      <td>0.371283</td>\n",
       "      <td>2.868575</td>\n",
       "      <td>141.389640</td>\n",
       "      <td>1128.998515</td>\n",
       "      <td>1.320827</td>\n",
       "    </tr>\n",
       "    <tr>\n",
       "      <th>min</th>\n",
       "      <td>1.000007e+06</td>\n",
       "      <td>10000.000000</td>\n",
       "      <td>1.000049e+09</td>\n",
       "      <td>501.000000</td>\n",
       "      <td>18.000000</td>\n",
       "      <td>2023.000000</td>\n",
       "      <td>1.000000</td>\n",
       "      <td>10.000219</td>\n",
       "      <td>10.003750</td>\n",
       "      <td>1.000000</td>\n",
       "    </tr>\n",
       "    <tr>\n",
       "      <th>25%</th>\n",
       "      <td>3.247930e+06</td>\n",
       "      <td>32469.250000</td>\n",
       "      <td>3.255061e+09</td>\n",
       "      <td>25425.000000</td>\n",
       "      <td>22.000000</td>\n",
       "      <td>2023.000000</td>\n",
       "      <td>3.000000</td>\n",
       "      <td>132.890764</td>\n",
       "      <td>438.724278</td>\n",
       "      <td>2.000000</td>\n",
       "    </tr>\n",
       "    <tr>\n",
       "      <th>50%</th>\n",
       "      <td>5.499657e+06</td>\n",
       "      <td>55012.000000</td>\n",
       "      <td>5.505812e+09</td>\n",
       "      <td>50602.500000</td>\n",
       "      <td>32.000000</td>\n",
       "      <td>2023.000000</td>\n",
       "      <td>5.000000</td>\n",
       "      <td>255.470969</td>\n",
       "      <td>1041.117547</td>\n",
       "      <td>3.000000</td>\n",
       "    </tr>\n",
       "    <tr>\n",
       "      <th>75%</th>\n",
       "      <td>7.739509e+06</td>\n",
       "      <td>77511.000000</td>\n",
       "      <td>7.749860e+09</td>\n",
       "      <td>75252.000000</td>\n",
       "      <td>46.000000</td>\n",
       "      <td>2023.000000</td>\n",
       "      <td>8.000000</td>\n",
       "      <td>377.672606</td>\n",
       "      <td>2029.999853</td>\n",
       "      <td>4.000000</td>\n",
       "    </tr>\n",
       "    <tr>\n",
       "      <th>max</th>\n",
       "      <td>9.999995e+06</td>\n",
       "      <td>99999.000000</td>\n",
       "      <td>9.999996e+09</td>\n",
       "      <td>99949.000000</td>\n",
       "      <td>70.000000</td>\n",
       "      <td>2024.000000</td>\n",
       "      <td>10.000000</td>\n",
       "      <td>499.997911</td>\n",
       "      <td>4999.625796</td>\n",
       "      <td>5.000000</td>\n",
       "    </tr>\n",
       "  </tbody>\n",
       "</table>\n",
       "</div>"
      ],
      "text/plain": [
       "       Transaction_ID    Customer_ID         Phone        Zipcode  \\\n",
       "count    3.016770e+05  301702.000000  3.016480e+05  301670.000000   \n",
       "mean     5.495823e+06   55006.553934  5.501464e+09   50298.951019   \n",
       "std      2.595565e+06   26005.675200  2.596017e+09   28972.807134   \n",
       "min      1.000007e+06   10000.000000  1.000049e+09     501.000000   \n",
       "25%      3.247930e+06   32469.250000  3.255061e+09   25425.000000   \n",
       "50%      5.499657e+06   55012.000000  5.505812e+09   50602.500000   \n",
       "75%      7.739509e+06   77511.000000  7.749860e+09   75252.000000   \n",
       "max      9.999995e+06   99999.000000  9.999996e+09   99949.000000   \n",
       "\n",
       "                 Age           Year  Total_Purchases         Amount  \\\n",
       "count  301837.000000  301660.000000    301649.000000  301653.000000   \n",
       "mean       35.481326    2023.165113         5.359729     255.163659   \n",
       "std        15.021933       0.371283         2.868575     141.389640   \n",
       "min        18.000000    2023.000000         1.000000      10.000219   \n",
       "25%        22.000000    2023.000000         3.000000     132.890764   \n",
       "50%        32.000000    2023.000000         5.000000     255.470969   \n",
       "75%        46.000000    2023.000000         8.000000     377.672606   \n",
       "max        70.000000    2024.000000        10.000000     499.997911   \n",
       "\n",
       "        Total_Amount        Ratings  \n",
       "count  301660.000000  301826.000000  \n",
       "mean     1367.651156       3.162670  \n",
       "std      1128.998515       1.320827  \n",
       "min        10.003750       1.000000  \n",
       "25%       438.724278       2.000000  \n",
       "50%      1041.117547       3.000000  \n",
       "75%      2029.999853       4.000000  \n",
       "max      4999.625796       5.000000  "
      ]
     },
     "execution_count": 5,
     "metadata": {},
     "output_type": "execute_result"
    }
   ],
   "source": [
    "df.describe()"
   ]
  },
  {
   "cell_type": "markdown",
   "id": "ca289a2f",
   "metadata": {},
   "source": [
    "# Check for missing values in the dataset and print the summary"
   ]
  },
  {
   "cell_type": "code",
   "execution_count": 6,
   "id": "9d9a7d58",
   "metadata": {},
   "outputs": [
    {
     "name": "stdout",
     "output_type": "stream",
     "text": [
      "Missing values: \n",
      " Transaction_ID      333\n",
      "Customer_ID         308\n",
      "Name                382\n",
      "Email               347\n",
      "Phone               362\n",
      "Address             315\n",
      "City                248\n",
      "State               281\n",
      "Zipcode             340\n",
      "Country             271\n",
      "Age                 173\n",
      "Gender              317\n",
      "Income              290\n",
      "Customer_Segment    215\n",
      "Date                359\n",
      "Year                350\n",
      "Month               273\n",
      "Time                350\n",
      "Total_Purchases     361\n",
      "Amount              357\n",
      "Total_Amount        350\n",
      "Product_Category    283\n",
      "Product_Brand       281\n",
      "Product_Type          0\n",
      "Feedback            184\n",
      "Shipping_Method     337\n",
      "Payment_Method      297\n",
      "Order_Status        235\n",
      "Ratings             184\n",
      "products              0\n",
      "dtype: int64\n"
     ]
    }
   ],
   "source": [
    "missing_value = df.isnull().sum()\n",
    "print(\"Missing values: \\n\", missing_value)"
   ]
  },
  {
   "cell_type": "code",
   "execution_count": 7,
   "id": "b2d7e66a",
   "metadata": {},
   "outputs": [
    {
     "data": {
      "image/png": "[encoded data removed]",
      "text/plain": [
       "<Figure size 1000x600 with 1 Axes>"
      ]
     },
     "metadata": {},
     "output_type": "display_data"
    }
   ],
   "source": [
    "# Visualize missing data with a heatmap to understand the distribution\n",
    "plt.figure(figsize=(10,6))\n",
    "sns.heatmap(df.isnull(), cbar=False, cmap='viridis')\n",
    "plt.title('Missing Values Heatmap')\n",
    "plt.show()"
   ]
  },
  {
   "cell_type": "markdown",
   "id": "93c5ab53",
   "metadata": {},
   "source": [
    "# Handling Missing Values"
   ]
  },
  {
   "cell_type": "code",
   "execution_count": 8,
   "id": "098da94a",
   "metadata": {},
   "outputs": [
    {
     "name": "stdout",
     "output_type": "stream",
     "text": [
      "Missing Values After Filling:\n",
      " Transaction_ID      0\n",
      "Customer_ID         0\n",
      "Name                0\n",
      "Email               0\n",
      "Phone               0\n",
      "Address             0\n",
      "City                0\n",
      "State               0\n",
      "Zipcode             0\n",
      "Country             0\n",
      "Age                 0\n",
      "Gender              0\n",
      "Income              0\n",
      "Customer_Segment    0\n",
      "Date                0\n",
      "Year                0\n",
      "Month               0\n",
      "Time                0\n",
      "Total_Purchases     0\n",
      "Amount              0\n",
      "Total_Amount        0\n",
      "Product_Category    0\n",
      "Product_Brand       0\n",
      "Product_Type        0\n",
      "Feedback            0\n",
      "Shipping_Method     0\n",
      "Payment_Method      0\n",
      "Order_Status        0\n",
      "Ratings             0\n",
      "products            0\n",
      "dtype: int64\n"
     ]
    }
   ],
   "source": [
    "# Handle missing values for numerical and categorical columns\n",
    "\n",
    "# Numerical Columns:\n",
    "# Fill missing values with the median since it’s less sensitive to outliers than the mean.\n",
    "numerical_columns = df.select_dtypes(include=[np.number]).columns\n",
    "\n",
    "for col in numerical_columns:\n",
    "    if df[col].isnull().sum() > 0:  # Check if the column has missing values\n",
    "        median_value = df[col].median()\n",
    "        df[col].fillna(median_value, inplace=True)\n",
    "\n",
    "# Categorical Columns:\n",
    "# Fill missing values with a placeholder, such as 'Unknown'.\n",
    "categorical_columns = df.select_dtypes(include=['object']).columns\n",
    "\n",
    "for col in categorical_columns:\n",
    "    if df[col].isnull().sum() > 0:  # Check if the column has missing values\n",
    "        df[col].fillna('Unknown', inplace=True)\n",
    "\n",
    "# Recheck for missing values after filling\n",
    "missing_values_after_fill = df.isnull().sum()\n",
    "print(\"Missing Values After Filling:\\n\", missing_values_after_fill)"
   ]
  },
  {
   "cell_type": "markdown",
   "id": "7d411fdb",
   "metadata": {},
   "source": [
    "# Handle duplicate"
   ]
  },
  {
   "cell_type": "code",
   "execution_count": 9,
   "id": "69a6c4d6",
   "metadata": {},
   "outputs": [
    {
     "name": "stdout",
     "output_type": "stream",
     "text": [
      "Number of duplicate rows: 4\n"
     ]
    }
   ],
   "source": [
    "# Check for duplicates in the dataset\n",
    "duplicate_rows = df[df.duplicated()]\n",
    "print(\"Number of duplicate rows:\", len(duplicate_rows))"
   ]
  },
  {
   "cell_type": "code",
   "execution_count": 10,
   "id": "05fde724",
   "metadata": {},
   "outputs": [],
   "source": [
    "# Remove duplicates\n",
    "df.drop_duplicates(inplace=True)"
   ]
  },
  {
   "cell_type": "code",
   "execution_count": 11,
   "id": "597aeef8",
   "metadata": {},
   "outputs": [
    {
     "name": "stdout",
     "output_type": "stream",
     "text": [
      "Number of rows after removing duplicates: 302006\n"
     ]
    }
   ],
   "source": [
    "# Confirm that duplicates are removed\n",
    "print(\"Number of rows after removing duplicates:\", len(df))"
   ]
  },
  {
   "cell_type": "markdown",
   "id": "9bfcb71e",
   "metadata": {},
   "source": [
    "# Clean String Data"
   ]
  },
  {
   "cell_type": "code",
   "execution_count": 12,
   "id": "628d8979",
   "metadata": {},
   "outputs": [
    {
     "data": {
      "text/html": [
       "<div>\n",
       "<style scoped>\n",
       "    .dataframe tbody tr th:only-of-type {\n",
       "        vertical-align: middle;\n",
       "    }\n",
       "\n",
       "    .dataframe tbody tr th {\n",
       "        vertical-align: top;\n",
       "    }\n",
       "\n",
       "    .dataframe thead th {\n",
       "        text-align: right;\n",
       "    }\n",
       "</style>\n",
       "<table border=\"1\" class=\"dataframe\">\n",
       "  <thead>\n",
       "    <tr style=\"text-align: right;\">\n",
       "      <th></th>\n",
       "      <th>Name</th>\n",
       "      <th>Email</th>\n",
       "      <th>Address</th>\n",
       "      <th>City</th>\n",
       "      <th>State</th>\n",
       "      <th>Country</th>\n",
       "      <th>Gender</th>\n",
       "      <th>Income</th>\n",
       "      <th>Customer_Segment</th>\n",
       "      <th>Date</th>\n",
       "      <th>Month</th>\n",
       "      <th>Time</th>\n",
       "      <th>Product_Category</th>\n",
       "      <th>Product_Brand</th>\n",
       "      <th>Product_Type</th>\n",
       "      <th>Feedback</th>\n",
       "      <th>Shipping_Method</th>\n",
       "      <th>Payment_Method</th>\n",
       "      <th>Order_Status</th>\n",
       "      <th>products</th>\n",
       "    </tr>\n",
       "  </thead>\n",
       "  <tbody>\n",
       "    <tr>\n",
       "      <th>0</th>\n",
       "      <td>Michelle Harrington</td>\n",
       "      <td>Ebony39@gmailcom</td>\n",
       "      <td>3959 Amanda Burgs</td>\n",
       "      <td>Dortmund</td>\n",
       "      <td>Berlin</td>\n",
       "      <td>Germany</td>\n",
       "      <td>Male</td>\n",
       "      <td>Low</td>\n",
       "      <td>Regular</td>\n",
       "      <td>9182023</td>\n",
       "      <td>September</td>\n",
       "      <td>220355</td>\n",
       "      <td>Clothing</td>\n",
       "      <td>Nike</td>\n",
       "      <td>Shorts</td>\n",
       "      <td>Excellent</td>\n",
       "      <td>SameDay</td>\n",
       "      <td>Debit Card</td>\n",
       "      <td>Shipped</td>\n",
       "      <td>Cycling shorts</td>\n",
       "    </tr>\n",
       "    <tr>\n",
       "      <th>1</th>\n",
       "      <td>Kelsey Hill</td>\n",
       "      <td>Mark36@gmailcom</td>\n",
       "      <td>82072 Dawn Centers</td>\n",
       "      <td>Nottingham</td>\n",
       "      <td>England</td>\n",
       "      <td>UK</td>\n",
       "      <td>Female</td>\n",
       "      <td>Low</td>\n",
       "      <td>Premium</td>\n",
       "      <td>12312023</td>\n",
       "      <td>December</td>\n",
       "      <td>84204</td>\n",
       "      <td>Electronics</td>\n",
       "      <td>Samsung</td>\n",
       "      <td>Tablet</td>\n",
       "      <td>Excellent</td>\n",
       "      <td>Standard</td>\n",
       "      <td>Credit Card</td>\n",
       "      <td>Processing</td>\n",
       "      <td>Lenovo Tab</td>\n",
       "    </tr>\n",
       "    <tr>\n",
       "      <th>2</th>\n",
       "      <td>Scott Jensen</td>\n",
       "      <td>Shane85@gmailcom</td>\n",
       "      <td>4133 Young Canyon</td>\n",
       "      <td>Geelong</td>\n",
       "      <td>New South Wales</td>\n",
       "      <td>Australia</td>\n",
       "      <td>Male</td>\n",
       "      <td>Low</td>\n",
       "      <td>Regular</td>\n",
       "      <td>4262023</td>\n",
       "      <td>April</td>\n",
       "      <td>40629</td>\n",
       "      <td>Books</td>\n",
       "      <td>Penguin Books</td>\n",
       "      <td>Childrens</td>\n",
       "      <td>Average</td>\n",
       "      <td>SameDay</td>\n",
       "      <td>Credit Card</td>\n",
       "      <td>Processing</td>\n",
       "      <td>Sports equipment</td>\n",
       "    </tr>\n",
       "    <tr>\n",
       "      <th>3</th>\n",
       "      <td>Joseph Miller</td>\n",
       "      <td>Mary34@gmailcom</td>\n",
       "      <td>8148 Thomas Creek Suite 100</td>\n",
       "      <td>Edmonton</td>\n",
       "      <td>Ontario</td>\n",
       "      <td>Canada</td>\n",
       "      <td>Male</td>\n",
       "      <td>High</td>\n",
       "      <td>Premium</td>\n",
       "      <td>050823</td>\n",
       "      <td>May</td>\n",
       "      <td>145517</td>\n",
       "      <td>Home Decor</td>\n",
       "      <td>Home Depot</td>\n",
       "      <td>Tools</td>\n",
       "      <td>Excellent</td>\n",
       "      <td>Standard</td>\n",
       "      <td>PayPal</td>\n",
       "      <td>Processing</td>\n",
       "      <td>Utility knife</td>\n",
       "    </tr>\n",
       "    <tr>\n",
       "      <th>4</th>\n",
       "      <td>Debra Coleman</td>\n",
       "      <td>Charles30@gmailcom</td>\n",
       "      <td>5813 Lori Ports Suite 269</td>\n",
       "      <td>Bristol</td>\n",
       "      <td>England</td>\n",
       "      <td>UK</td>\n",
       "      <td>Male</td>\n",
       "      <td>Low</td>\n",
       "      <td>Premium</td>\n",
       "      <td>011024</td>\n",
       "      <td>January</td>\n",
       "      <td>165407</td>\n",
       "      <td>Grocery</td>\n",
       "      <td>Nestle</td>\n",
       "      <td>Chocolate</td>\n",
       "      <td>Bad</td>\n",
       "      <td>Standard</td>\n",
       "      <td>Cash</td>\n",
       "      <td>Shipped</td>\n",
       "      <td>Chocolate cookies</td>\n",
       "    </tr>\n",
       "  </tbody>\n",
       "</table>\n",
       "</div>"
      ],
      "text/plain": [
       "                  Name               Email                      Address  \\\n",
       "0  Michelle Harrington    Ebony39@gmailcom            3959 Amanda Burgs   \n",
       "1          Kelsey Hill     Mark36@gmailcom           82072 Dawn Centers   \n",
       "2         Scott Jensen    Shane85@gmailcom            4133 Young Canyon   \n",
       "3        Joseph Miller     Mary34@gmailcom  8148 Thomas Creek Suite 100   \n",
       "4        Debra Coleman  Charles30@gmailcom    5813 Lori Ports Suite 269   \n",
       "\n",
       "         City            State    Country  Gender Income Customer_Segment  \\\n",
       "0    Dortmund           Berlin    Germany    Male    Low          Regular   \n",
       "1  Nottingham          England         UK  Female    Low          Premium   \n",
       "2     Geelong  New South Wales  Australia    Male    Low          Regular   \n",
       "3    Edmonton          Ontario     Canada    Male   High          Premium   \n",
       "4     Bristol          England         UK    Male    Low          Premium   \n",
       "\n",
       "       Date      Month    Time Product_Category  Product_Brand Product_Type  \\\n",
       "0   9182023  September  220355         Clothing           Nike       Shorts   \n",
       "1  12312023   December   84204      Electronics        Samsung       Tablet   \n",
       "2   4262023      April   40629            Books  Penguin Books    Childrens   \n",
       "3    050823        May  145517       Home Decor     Home Depot        Tools   \n",
       "4    011024    January  165407          Grocery         Nestle    Chocolate   \n",
       "\n",
       "    Feedback Shipping_Method Payment_Method Order_Status           products  \n",
       "0  Excellent         SameDay     Debit Card      Shipped     Cycling shorts  \n",
       "1  Excellent        Standard    Credit Card   Processing         Lenovo Tab  \n",
       "2    Average         SameDay    Credit Card   Processing   Sports equipment  \n",
       "3  Excellent        Standard         PayPal   Processing      Utility knife  \n",
       "4        Bad        Standard           Cash      Shipped  Chocolate cookies  "
      ]
     },
     "execution_count": 12,
     "metadata": {},
     "output_type": "execute_result"
    }
   ],
   "source": [
    "# Clean unnecessary spaces and special characters, but retain '@'\n",
    "string_columns = df.select_dtypes(include=['object']).columns\n",
    "\n",
    "# Strip leading/trailing spaces and remove special characters except '@'\n",
    "df[string_columns] = df[string_columns].apply(lambda x: x.str.strip().str.replace('[^a-zA-Z0-9@\\s]', '', regex=True))\n",
    "\n",
    "# Display a sample of cleaned string data\n",
    "df[string_columns].head()"
   ]
  },
  {
   "cell_type": "markdown",
   "id": "fdf1f13e",
   "metadata": {},
   "source": [
    "# Clean Numeric Data"
   ]
  },
  {
   "cell_type": "code",
   "execution_count": 13,
   "id": "52901fde",
   "metadata": {},
   "outputs": [
    {
     "name": "stdout",
     "output_type": "stream",
     "text": [
      "Invalid phone numbers (less than 10 digits or more than 15 digits):\n"
     ]
    },
    {
     "data": {
      "text/html": [
       "<div>\n",
       "<style scoped>\n",
       "    .dataframe tbody tr th:only-of-type {\n",
       "        vertical-align: middle;\n",
       "    }\n",
       "\n",
       "    .dataframe tbody tr th {\n",
       "        vertical-align: top;\n",
       "    }\n",
       "\n",
       "    .dataframe thead th {\n",
       "        text-align: right;\n",
       "    }\n",
       "</style>\n",
       "<table border=\"1\" class=\"dataframe\">\n",
       "  <thead>\n",
       "    <tr style=\"text-align: right;\">\n",
       "      <th></th>\n",
       "      <th>Phone</th>\n",
       "      <th>Phone_Length</th>\n",
       "    </tr>\n",
       "  </thead>\n",
       "  <tbody>\n",
       "  </tbody>\n",
       "</table>\n",
       "</div>"
      ],
      "text/plain": [
       "Empty DataFrame\n",
       "Columns: [Phone, Phone_Length]\n",
       "Index: []"
      ]
     },
     "execution_count": 13,
     "metadata": {},
     "output_type": "execute_result"
    }
   ],
   "source": [
    "# Step 1: Remove all non-numeric characters from the 'Phone' column\n",
    "df['Phone'] = df['Phone'].astype(str).str.replace('[^0-9]', '', regex=True)\n",
    "\n",
    "# Step 2: Check the length of phone numbers and find unusual values\n",
    "df['Phone_Length'] = df['Phone'].str.len()  # Create a new column for phone number lengths\n",
    "\n",
    "# Step 3: Identify phone numbers that are too short or too long (e.g., less than 10 digits or more than 15 digits)\n",
    "invalid_phones = df[(df['Phone_Length'] < 10) | (df['Phone_Length'] > 15)]\n",
    "\n",
    "# Display rows with invalid phone numbers\n",
    "print(\"Invalid phone numbers (less than 10 digits or more than 15 digits):\")\n",
    "invalid_phones[['Phone', 'Phone_Length']]\n"
   ]
  },
  {
   "cell_type": "code",
   "execution_count": 14,
   "id": "f88a1cbe",
   "metadata": {},
   "outputs": [
    {
     "data": {
      "text/plain": [
       "(302006, 31)"
      ]
     },
     "execution_count": 14,
     "metadata": {},
     "output_type": "execute_result"
    }
   ],
   "source": [
    "# Drop rows with invalid phone numbers (less than 10 digits or more than 15 digits)\n",
    "df_cleaned_phones = df[~((df['Phone_Length'] < 10) | (df['Phone_Length'] > 15))]\n",
    "\n",
    "# Check the size of the dataset after cleaning\n",
    "df_cleaned_phones.shape\n"
   ]
  },
  {
   "cell_type": "code",
   "execution_count": 15,
   "id": "7963c199",
   "metadata": {},
   "outputs": [
    {
     "data": {
      "text/html": [
       "<div>\n",
       "<style scoped>\n",
       "    .dataframe tbody tr th:only-of-type {\n",
       "        vertical-align: middle;\n",
       "    }\n",
       "\n",
       "    .dataframe tbody tr th {\n",
       "        vertical-align: top;\n",
       "    }\n",
       "\n",
       "    .dataframe thead th {\n",
       "        text-align: right;\n",
       "    }\n",
       "</style>\n",
       "<table border=\"1\" class=\"dataframe\">\n",
       "  <thead>\n",
       "    <tr style=\"text-align: right;\">\n",
       "      <th></th>\n",
       "      <th>Phone</th>\n",
       "      <th>Phone_Length</th>\n",
       "    </tr>\n",
       "  </thead>\n",
       "  <tbody>\n",
       "    <tr>\n",
       "      <th>0</th>\n",
       "      <td>14147868010</td>\n",
       "      <td>11</td>\n",
       "    </tr>\n",
       "    <tr>\n",
       "      <th>1</th>\n",
       "      <td>68528999870</td>\n",
       "      <td>11</td>\n",
       "    </tr>\n",
       "    <tr>\n",
       "      <th>2</th>\n",
       "      <td>83621604490</td>\n",
       "      <td>11</td>\n",
       "    </tr>\n",
       "    <tr>\n",
       "      <th>3</th>\n",
       "      <td>27767517240</td>\n",
       "      <td>11</td>\n",
       "    </tr>\n",
       "    <tr>\n",
       "      <th>4</th>\n",
       "      <td>90982676350</td>\n",
       "      <td>11</td>\n",
       "    </tr>\n",
       "  </tbody>\n",
       "</table>\n",
       "</div>"
      ],
      "text/plain": [
       "         Phone  Phone_Length\n",
       "0  14147868010            11\n",
       "1  68528999870            11\n",
       "2  83621604490            11\n",
       "3  27767517240            11\n",
       "4  90982676350            11"
      ]
     },
     "execution_count": 15,
     "metadata": {},
     "output_type": "execute_result"
    }
   ],
   "source": [
    "# Replace invalid phone numbers with NaN\n",
    "df['Phone'] = np.where((df['Phone_Length'] < 10) | (df['Phone_Length'] > 15), np.nan, df['Phone'])\n",
    "\n",
    "# Verify the changes\n",
    "df[['Phone', 'Phone_Length']].head()"
   ]
  },
  {
   "cell_type": "code",
   "execution_count": 16,
   "id": "721dd3ce",
   "metadata": {},
   "outputs": [
    {
     "name": "stdout",
     "output_type": "stream",
     "text": [
      "Phone numbers that exceed 20 characters:\n",
      "Empty DataFrame\n",
      "Columns: [Transaction_ID, Customer_ID, Name, Email, Phone, Address, City, State, Zipcode, Country, Age, Gender, Income, Customer_Segment, Date, Year, Month, Time, Total_Purchases, Amount, Total_Amount, Product_Category, Product_Brand, Product_Type, Feedback, Shipping_Method, Payment_Method, Order_Status, Ratings, products, Phone_Length]\n",
      "Index: []\n",
      "\n",
      "[0 rows x 31 columns]\n",
      "Phone numbers with non-numeric characters:\n",
      "Empty DataFrame\n",
      "Columns: [Transaction_ID, Customer_ID, Name, Email, Phone, Address, City, State, Zipcode, Country, Age, Gender, Income, Customer_Segment, Date, Year, Month, Time, Total_Purchases, Amount, Total_Amount, Product_Category, Product_Brand, Product_Type, Feedback, Shipping_Method, Payment_Method, Order_Status, Ratings, products, Phone_Length]\n",
      "Index: []\n",
      "\n",
      "[0 rows x 31 columns]\n"
     ]
    }
   ],
   "source": [
    "# Check for phone numbers that are too long\n",
    "long_phone_numbers = df[df['Phone'].str.len() > 20]\n",
    "print(\"Phone numbers that exceed 20 characters:\")\n",
    "print(long_phone_numbers)\n",
    "\n",
    "# Check for any non-numeric characters\n",
    "invalid_phone_numbers = df[df['Phone'].str.contains('[^0-9]', regex=True)]\n",
    "print(\"Phone numbers with non-numeric characters:\")\n",
    "print(invalid_phone_numbers)"
   ]
  },
  {
   "cell_type": "code",
   "execution_count": 17,
   "id": "68857645",
   "metadata": {},
   "outputs": [
    {
     "name": "stdout",
     "output_type": "stream",
     "text": [
      "Non-numeric values in 'Income':\n"
     ]
    },
    {
     "data": {
      "text/plain": [
       "array(['Low', 'High', 'Medium', 'Unknown'], dtype=object)"
      ]
     },
     "execution_count": 17,
     "metadata": {},
     "output_type": "execute_result"
    }
   ],
   "source": [
    "# Check for non-numeric values in the 'Income' column\n",
    "non_numeric_income = df[~df['Income'].str.replace('[\\$,]', '', regex=True).str.isnumeric()]\n",
    "\n",
    "# Display the non-numeric values\n",
    "print(\"Non-numeric values in 'Income':\")\n",
    "non_numeric_income['Income'].unique()"
   ]
  },
  {
   "cell_type": "code",
   "execution_count": 18,
   "id": "bb0078be",
   "metadata": {},
   "outputs": [
    {
     "name": "stdout",
     "output_type": "stream",
     "text": [
      "       Date    Time\n",
      "0   9182023  220355\n",
      "1  12312023   84204\n",
      "2   4262023   40629\n",
      "3    050823  145517\n",
      "4    011024  165407\n",
      "5   9212023  232427\n",
      "6   6262023  133551\n",
      "7   3242023  101256\n",
      "8    010624  143826\n",
      "9    100423  222740\n"
     ]
    }
   ],
   "source": [
    "# Display a few rows of the Date and Time columns to investigate the issue\n",
    "print(df[['Date', 'Time']].head(10))"
   ]
  },
  {
   "cell_type": "code",
   "execution_count": 19,
   "id": "6816b667",
   "metadata": {},
   "outputs": [],
   "source": [
    "# Convert 'Date' to proper datetime format (MMDDYYYY)\n",
    "df['Date'] = pd.to_datetime(df['Date'], format='%m%d%Y', errors='coerce')"
   ]
  },
  {
   "cell_type": "code",
   "execution_count": 20,
   "id": "e626c6a9",
   "metadata": {},
   "outputs": [],
   "source": [
    "# Convert 'Time' from HHMMSS to HH:MM:SS format\n",
    "def convert_time(x):\n",
    "    if pd.isna(x):\n",
    "        return None  # Handle missing values\n",
    "    try:\n",
    "        # Ensure the time format is HHMMSS and convert to HH:MM:SS\n",
    "        return pd.to_datetime(str(x).zfill(6), format='%H%M%S').time()\n",
    "    except ValueError:\n",
    "        return None  # Handle invalid time formats\n",
    "\n",
    "# Apply the conversion function to the 'Time' column\n",
    "df['Time'] = df['Time'].apply(convert_time)\n"
   ]
  },
  {
   "cell_type": "code",
   "execution_count": 21,
   "id": "dbf46273",
   "metadata": {},
   "outputs": [
    {
     "name": "stdout",
     "output_type": "stream",
     "text": [
      "        Date      Time\n",
      "0 2023-09-18  22:03:55\n",
      "1 2023-12-31  08:42:04\n",
      "2 2023-04-26  04:06:29\n",
      "3        NaT  14:55:17\n",
      "4        NaT  16:54:07\n",
      "5 2023-09-21  23:24:27\n",
      "6 2023-06-26  13:35:51\n",
      "7 2023-03-24  10:12:56\n",
      "8        NaT  14:38:26\n",
      "9        NaT  22:27:40\n",
      "        Date      Time\n",
      "0 2023-09-18  22:03:55\n",
      "1 2023-12-31  08:42:04\n",
      "2 2023-04-26  04:06:29\n",
      "3        NaT  14:55:17\n",
      "4        NaT  16:54:07\n",
      "5 2023-09-21  23:24:27\n",
      "6 2023-06-26  13:35:51\n",
      "7 2023-03-24  10:12:56\n",
      "8        NaT  14:38:26\n",
      "9        NaT  22:27:40\n"
     ]
    }
   ],
   "source": [
    "# Display the first 10 rows to verify the changes\n",
    "print(df[['Date', 'Time']].head(10))\n",
    "# Display the first 10 rows to verify the changes\n",
    "print(df[['Date', 'Time']].head(10))\n"
   ]
  },
  {
   "cell_type": "code",
   "execution_count": 22,
   "id": "d70bd9e7",
   "metadata": {},
   "outputs": [
    {
     "name": "stdout",
     "output_type": "stream",
     "text": [
      "       Date      Time\n",
      "3       NaT  14:55:17\n",
      "4       NaT  16:54:07\n",
      "8       NaT  14:38:26\n",
      "9       NaT  22:27:40\n",
      "12      NaT  00:00:47\n",
      "...     ...       ...\n",
      "301997  NaT  08:30:10\n",
      "302000  NaT  14:47:57\n",
      "302002  NaT  17:37:41\n",
      "302008  NaT  11:20:31\n",
      "302009  NaT  11:44:36\n",
      "\n",
      "[119113 rows x 2 columns]\n"
     ]
    }
   ],
   "source": [
    "# Display rows where the 'Date' column is NaT\n",
    "missing_date_rows = df[df['Date'].isna()]\n",
    "print(missing_date_rows[['Date', 'Time']])\n"
   ]
  },
  {
   "cell_type": "code",
   "execution_count": 23,
   "id": "ac533a43",
   "metadata": {},
   "outputs": [],
   "source": [
    "# Drop rows where the 'Date' column is NaT\n",
    "df_cleaned = df.dropna(subset=['Date'])"
   ]
  },
  {
   "cell_type": "code",
   "execution_count": 24,
   "id": "14fc514f",
   "metadata": {},
   "outputs": [
    {
     "name": "stdout",
     "output_type": "stream",
     "text": [
      "Missing dates: 119113\n",
      "Missing times: 350\n"
     ]
    }
   ],
   "source": [
    "# Check if there are still any missing values in 'Date' and 'Time' columns\n",
    "missing_dates = df['Date'].isna().sum()\n",
    "missing_times = df['Time'].isna().sum()\n",
    "\n",
    "print(f\"Missing dates: {missing_dates}\")\n",
    "print(f\"Missing times: {missing_times}\")\n"
   ]
  },
  {
   "cell_type": "code",
   "execution_count": 25,
   "id": "96d5c971",
   "metadata": {},
   "outputs": [
    {
     "name": "stdout",
     "output_type": "stream",
     "text": [
      "Missing times after dropping rows: 0\n"
     ]
    }
   ],
   "source": [
    "# Drop rows where 'Time' is missing\n",
    "df = df.dropna(subset=['Time'])\n",
    "\n",
    "# Check again for missing values\n",
    "missing_times = df['Time'].isna().sum()\n",
    "print(f\"Missing times after dropping rows: {missing_times}\")\n"
   ]
  },
  {
   "cell_type": "markdown",
   "id": "d0d86e57",
   "metadata": {},
   "source": [
    "# Correct Data Types"
   ]
  },
  {
   "cell_type": "code",
   "execution_count": 26,
   "id": "0c2e95cd",
   "metadata": {},
   "outputs": [
    {
     "name": "stdout",
     "output_type": "stream",
     "text": [
      "Data type of 'Year' column after conversion: int64\n",
      "Data types after all conversions:\n",
      "Transaction_ID             float64\n",
      "Customer_ID                  int64\n",
      "Name                        object\n",
      "Email                       object\n",
      "Phone                       object\n",
      "Address                     object\n",
      "City                        object\n",
      "State                       object\n",
      "Zipcode                     object\n",
      "Country                     object\n",
      "Age                        float64\n",
      "Gender                      object\n",
      "Income                      object\n",
      "Customer_Segment            object\n",
      "Date                datetime64[ns]\n",
      "Year                         int64\n",
      "Month                       object\n",
      "Time                        object\n",
      "Total_Purchases            float64\n",
      "Amount                     float64\n",
      "Total_Amount               float64\n",
      "Product_Category            object\n",
      "Product_Brand               object\n",
      "Product_Type                object\n",
      "Feedback                    object\n",
      "Shipping_Method             object\n",
      "Payment_Method              object\n",
      "Order_Status                object\n",
      "Ratings                    float64\n",
      "products                    object\n",
      "Phone_Length                 int64\n",
      "dtype: object\n"
     ]
    }
   ],
   "source": [
    "# Convert the 'Year' column from float to integer (handle any NaN values before conversion)\n",
    "if df['Year'].isnull().sum() > 0:\n",
    "    df['Year'].fillna(df['Year'].median(), inplace=True)  # Fill missing values if any before conversion\n",
    "df['Year'] = df['Year'].astype('int64')\n",
    "\n",
    "# Verify the conversion of 'Year'\n",
    "print(\"Data type of 'Year' column after conversion:\", df['Year'].dtype)\n",
    "\n",
    "# Convert 'Customer_ID' to integer if it doesn't contain letters (assuming all values are numeric)\n",
    "if df['Customer_ID'].isnull().sum() > 0:\n",
    "    df['Customer_ID'].fillna(0, inplace=True)  # Fill NaN with 0 or another default value\n",
    "df['Customer_ID'] = df['Customer_ID'].astype('int64')\n",
    "\n",
    "# Convert 'Zipcode' to string\n",
    "df['Zipcode'] = df['Zipcode'].astype('str')\n",
    "\n",
    "# Verify the data types after conversion\n",
    "print(\"Data types after all conversions:\")\n",
    "print(df.dtypes)"
   ]
  },
  {
   "cell_type": "markdown",
   "id": "fbaa6465",
   "metadata": {},
   "source": [
    "# Analyze the Total Sales per State (using pandas)"
   ]
  },
  {
   "cell_type": "code",
   "execution_count": 27,
   "id": "a0f85983",
   "metadata": {},
   "outputs": [
    {
     "name": "stdout",
     "output_type": "stream",
     "text": [
      "Top 5 States by Total Sales:\n",
      "               State  Total_Amount\n",
      "9           England  8.662934e+07\n",
      "4            Berlin  7.210351e+07\n",
      "33  New South Wales  6.198066e+07\n",
      "39          Ontario  6.169588e+07\n",
      "7       Connecticut  2.936984e+07\n"
     ]
    }
   ],
   "source": [
    "# Group by 'State' and calculate total sales per state\n",
    "state_sales = df.groupby('State')['Total_Amount'].sum().reset_index()\n",
    "\n",
    "# Sort by total sales and display the top 5 states\n",
    "top_states = state_sales.sort_values(by='Total_Amount', ascending=False).head(5)\n",
    "print(\"Top 5 States by Total Sales:\\n\", top_states)\n"
   ]
  },
  {
   "cell_type": "markdown",
   "id": "90330382",
   "metadata": {},
   "source": [
    "# Visualize Total Sales by State (using seaborn)\n"
   ]
  },
  {
   "cell_type": "code",
   "execution_count": 28,
   "id": "804e8e72",
   "metadata": {},
   "outputs": [
    {
     "data": {
      "image/png": "[encoded data removed]",
      "text/plain": [
       "<Figure size 1200x600 with 1 Axes>"
      ]
     },
     "metadata": {},
     "output_type": "display_data"
    }
   ],
   "source": [
    "# Visualize the total sales by state using a bar plot\n",
    "plt.figure(figsize=(12, 6))\n",
    "sns.barplot(x='State', y='Total_Amount', data=state_sales, palette='viridis')\n",
    "plt.title('Total Sales by State', fontsize=16)\n",
    "plt.xlabel('State', fontsize=14)\n",
    "plt.ylabel('Total Sales (Amount)', fontsize=14)\n",
    "plt.xticks(rotation=90)\n",
    "plt.grid(True)\n",
    "plt.show()"
   ]
  },
  {
   "cell_type": "markdown",
   "id": "4ee0192e",
   "metadata": {},
   "source": [
    "# Plot the Purchase Trends Over Time (using matplotlib)"
   ]
  },
  {
   "cell_type": "code",
   "execution_count": 29,
   "id": "cd96c2a6",
   "metadata": {},
   "outputs": [
    {
     "data": {
      "image/png": "[encoded data removed]",
      "text/plain": [
       "<Figure size 1000x600 with 1 Axes>"
      ]
     },
     "metadata": {},
     "output_type": "display_data"
    }
   ],
   "source": [
    "# Group by 'Month' to calculate total purchases per month\n",
    "monthly_purchases = df.groupby('Month')['Total_Purchases'].sum().reset_index()\n",
    "\n",
    "# Line plot to show purchase trends over time\n",
    "plt.figure(figsize=(10, 6))\n",
    "plt.plot(monthly_purchases['Month'], monthly_purchases['Total_Purchases'], marker='o', linestyle='-', color='green')\n",
    "plt.title('Purchase Trends Over Time', fontsize=16)\n",
    "plt.xlabel('Month', fontsize=14)\n",
    "plt.ylabel('Total Purchases', fontsize=14)\n",
    "plt.grid(True)\n",
    "plt.show()\n"
   ]
  },
  {
   "cell_type": "markdown",
   "id": "81f0c71d",
   "metadata": {},
   "source": [
    "# Find Customers with Total Amount Above a Certain Threshold"
   ]
  },
  {
   "cell_type": "code",
   "execution_count": 30,
   "id": "fb1c5cba",
   "metadata": {},
   "outputs": [
    {
     "name": "stdout",
     "output_type": "stream",
     "text": [
      "High Spenders (Total Amount > 10,000):\n",
      " Empty DataFrame\n",
      "Columns: [Customer_ID, Name, Total_Amount]\n",
      "Index: []\n"
     ]
    }
   ],
   "source": [
    "# Filter customers with Total_Amount greater than 10,000\n",
    "high_spenders = df[df['Total_Amount'] > 10000][['Customer_ID', 'Name', 'Total_Amount']]\n",
    "\n",
    "# Display the top 5 high spenders\n",
    "print(\"High Spenders (Total Amount > 10,000):\\n\", high_spenders.head())\n"
   ]
  },
  {
   "cell_type": "markdown",
   "id": "6a3dd55b",
   "metadata": {},
   "source": [
    "# Find the Average Purchase Amount by Customer Segment"
   ]
  },
  {
   "cell_type": "code",
   "execution_count": 31,
   "id": "1f603cac",
   "metadata": {},
   "outputs": [
    {
     "name": "stdout",
     "output_type": "stream",
     "text": [
      "Average Purchase Amount by Customer Segment:\n",
      "   Customer_Segment  Total_Amount\n",
      "0              New   1367.647289\n",
      "1          Premium   1362.848507\n",
      "2          Regular   1368.879087\n",
      "3          Unknown   1533.729559\n"
     ]
    }
   ],
   "source": [
    "# Group by 'Customer_Segment' and calculate the average Total_Amount\n",
    "avg_spend_by_segment = df.groupby('Customer_Segment')['Total_Amount'].mean().reset_index()\n",
    "\n",
    "# Display the average spending by customer segment\n",
    "print(\"Average Purchase Amount by Customer Segment:\\n\", avg_spend_by_segment)\n"
   ]
  },
  {
   "cell_type": "markdown",
   "id": "d16bd259",
   "metadata": {},
   "source": [
    "# Sort the data by Total_Amount in descending order"
   ]
  },
  {
   "cell_type": "code",
   "execution_count": 32,
   "id": "d34aefbe",
   "metadata": {},
   "outputs": [
    {
     "data": {
      "text/html": [
       "<div>\n",
       "<style scoped>\n",
       "    .dataframe tbody tr th:only-of-type {\n",
       "        vertical-align: middle;\n",
       "    }\n",
       "\n",
       "    .dataframe tbody tr th {\n",
       "        vertical-align: top;\n",
       "    }\n",
       "\n",
       "    .dataframe thead th {\n",
       "        text-align: right;\n",
       "    }\n",
       "</style>\n",
       "<table border=\"1\" class=\"dataframe\">\n",
       "  <thead>\n",
       "    <tr style=\"text-align: right;\">\n",
       "      <th></th>\n",
       "      <th>Transaction_ID</th>\n",
       "      <th>Customer_ID</th>\n",
       "      <th>Name</th>\n",
       "      <th>Email</th>\n",
       "      <th>Phone</th>\n",
       "      <th>Address</th>\n",
       "      <th>City</th>\n",
       "      <th>State</th>\n",
       "      <th>Zipcode</th>\n",
       "      <th>Country</th>\n",
       "      <th>...</th>\n",
       "      <th>Product_Category</th>\n",
       "      <th>Product_Brand</th>\n",
       "      <th>Product_Type</th>\n",
       "      <th>Feedback</th>\n",
       "      <th>Shipping_Method</th>\n",
       "      <th>Payment_Method</th>\n",
       "      <th>Order_Status</th>\n",
       "      <th>Ratings</th>\n",
       "      <th>products</th>\n",
       "      <th>Phone_Length</th>\n",
       "    </tr>\n",
       "  </thead>\n",
       "  <tbody>\n",
       "    <tr>\n",
       "      <th>0</th>\n",
       "      <td>3955465.0</td>\n",
       "      <td>16696</td>\n",
       "      <td>Sarah Smith</td>\n",
       "      <td>Daniel79@gmailcom</td>\n",
       "      <td>73408120570</td>\n",
       "      <td>255 Nicole Highway</td>\n",
       "      <td>Portsmouth</td>\n",
       "      <td>England</td>\n",
       "      <td>96017.0</td>\n",
       "      <td>UK</td>\n",
       "      <td>...</td>\n",
       "      <td>Electronics</td>\n",
       "      <td>Samsung</td>\n",
       "      <td>Television</td>\n",
       "      <td>Bad</td>\n",
       "      <td>Express</td>\n",
       "      <td>PayPal</td>\n",
       "      <td>Delivered</td>\n",
       "      <td>1.0</td>\n",
       "      <td>Android TV</td>\n",
       "      <td>11</td>\n",
       "    </tr>\n",
       "    <tr>\n",
       "      <th>1</th>\n",
       "      <td>9671388.0</td>\n",
       "      <td>23578</td>\n",
       "      <td>Casey Herrera</td>\n",
       "      <td>Alexandra87@gmailcom</td>\n",
       "      <td>42618660800</td>\n",
       "      <td>44959 Antonio Highway</td>\n",
       "      <td>New York</td>\n",
       "      <td>Kansas</td>\n",
       "      <td>65322.0</td>\n",
       "      <td>USA</td>\n",
       "      <td>...</td>\n",
       "      <td>Clothing</td>\n",
       "      <td>Adidas</td>\n",
       "      <td>Jacket</td>\n",
       "      <td>Bad</td>\n",
       "      <td>SameDay</td>\n",
       "      <td>Cash</td>\n",
       "      <td>Processing</td>\n",
       "      <td>1.0</td>\n",
       "      <td>Leather jacket</td>\n",
       "      <td>11</td>\n",
       "    </tr>\n",
       "    <tr>\n",
       "      <th>2</th>\n",
       "      <td>6851931.0</td>\n",
       "      <td>80039</td>\n",
       "      <td>Morgan Oconnor</td>\n",
       "      <td>Kelly34@gmailcom</td>\n",
       "      <td>94915526160</td>\n",
       "      <td>080 Chang Cape</td>\n",
       "      <td>Kitchener</td>\n",
       "      <td>Ontario</td>\n",
       "      <td>35277.0</td>\n",
       "      <td>Canada</td>\n",
       "      <td>...</td>\n",
       "      <td>Grocery</td>\n",
       "      <td>CocaCola</td>\n",
       "      <td>Juice</td>\n",
       "      <td>Average</td>\n",
       "      <td>Express</td>\n",
       "      <td>Credit Card</td>\n",
       "      <td>Shipped</td>\n",
       "      <td>2.0</td>\n",
       "      <td>Mango juice</td>\n",
       "      <td>11</td>\n",
       "    </tr>\n",
       "    <tr>\n",
       "      <th>3</th>\n",
       "      <td>7518888.0</td>\n",
       "      <td>14409</td>\n",
       "      <td>Erica Green</td>\n",
       "      <td>Amanda25@gmailcom</td>\n",
       "      <td>83045647010</td>\n",
       "      <td>28381 Donovan Radial Apt 969</td>\n",
       "      <td>San Francisco</td>\n",
       "      <td>Maine</td>\n",
       "      <td>40543.0</td>\n",
       "      <td>USA</td>\n",
       "      <td>...</td>\n",
       "      <td>Books</td>\n",
       "      <td>Penguin Books</td>\n",
       "      <td>NonFiction</td>\n",
       "      <td>Good</td>\n",
       "      <td>Standard</td>\n",
       "      <td>Credit Card</td>\n",
       "      <td>Delivered</td>\n",
       "      <td>4.0</td>\n",
       "      <td>Cooking</td>\n",
       "      <td>11</td>\n",
       "    </tr>\n",
       "    <tr>\n",
       "      <th>4</th>\n",
       "      <td>6580873.0</td>\n",
       "      <td>67425</td>\n",
       "      <td>Jesse Hughes</td>\n",
       "      <td>Brandon23@gmailcom</td>\n",
       "      <td>69890182070</td>\n",
       "      <td>942 Carpenter Stream</td>\n",
       "      <td>Nuremberg</td>\n",
       "      <td>Berlin</td>\n",
       "      <td>27224.0</td>\n",
       "      <td>Germany</td>\n",
       "      <td>...</td>\n",
       "      <td>Clothing</td>\n",
       "      <td>Zara</td>\n",
       "      <td>Shirt</td>\n",
       "      <td>Good</td>\n",
       "      <td>SameDay</td>\n",
       "      <td>Cash</td>\n",
       "      <td>Delivered</td>\n",
       "      <td>4.0</td>\n",
       "      <td>Henley shirt</td>\n",
       "      <td>11</td>\n",
       "    </tr>\n",
       "  </tbody>\n",
       "</table>\n",
       "<p>5 rows × 31 columns</p>\n",
       "</div>"
      ],
      "text/plain": [
       "   Transaction_ID  Customer_ID            Name                 Email  \\\n",
       "0       3955465.0        16696     Sarah Smith     Daniel79@gmailcom   \n",
       "1       9671388.0        23578   Casey Herrera  Alexandra87@gmailcom   \n",
       "2       6851931.0        80039  Morgan Oconnor      Kelly34@gmailcom   \n",
       "3       7518888.0        14409     Erica Green     Amanda25@gmailcom   \n",
       "4       6580873.0        67425    Jesse Hughes    Brandon23@gmailcom   \n",
       "\n",
       "         Phone                       Address           City    State  Zipcode  \\\n",
       "0  73408120570            255 Nicole Highway     Portsmouth  England  96017.0   \n",
       "1  42618660800         44959 Antonio Highway       New York   Kansas  65322.0   \n",
       "2  94915526160                080 Chang Cape      Kitchener  Ontario  35277.0   \n",
       "3  83045647010  28381 Donovan Radial Apt 969  San Francisco    Maine  40543.0   \n",
       "4  69890182070          942 Carpenter Stream      Nuremberg   Berlin  27224.0   \n",
       "\n",
       "   Country  ...  Product_Category  Product_Brand Product_Type Feedback  \\\n",
       "0       UK  ...       Electronics        Samsung   Television      Bad   \n",
       "1      USA  ...          Clothing         Adidas       Jacket      Bad   \n",
       "2   Canada  ...           Grocery       CocaCola        Juice  Average   \n",
       "3      USA  ...             Books  Penguin Books   NonFiction     Good   \n",
       "4  Germany  ...          Clothing           Zara        Shirt     Good   \n",
       "\n",
       "  Shipping_Method  Payment_Method Order_Status Ratings        products  \\\n",
       "0         Express          PayPal    Delivered     1.0      Android TV   \n",
       "1         SameDay            Cash   Processing     1.0  Leather jacket   \n",
       "2         Express     Credit Card      Shipped     2.0     Mango juice   \n",
       "3        Standard     Credit Card    Delivered     4.0         Cooking   \n",
       "4         SameDay            Cash    Delivered     4.0    Henley shirt   \n",
       "\n",
       "   Phone_Length  \n",
       "0            11  \n",
       "1            11  \n",
       "2            11  \n",
       "3            11  \n",
       "4            11  \n",
       "\n",
       "[5 rows x 31 columns]"
      ]
     },
     "execution_count": 32,
     "metadata": {},
     "output_type": "execute_result"
    }
   ],
   "source": [
    "# Sort the data by Total_Amount in descending order\n",
    "sorted_data = df.sort_values(by='Total_Amount', ascending=False)\n",
    "\n",
    "# Reset the index and drop the old one\n",
    "sorted_data_reset = sorted_data.reset_index(drop=True)\n",
    "\n",
    "# Display the first few rows of the reset DataFrame\n",
    "sorted_data_reset.head()"
   ]
  },
  {
   "cell_type": "markdown",
   "id": "8d9e7630",
   "metadata": {},
   "source": [
    "# Use iloc to select rows 10 to 15 and specific columns"
   ]
  },
  {
   "cell_type": "code",
   "execution_count": 33,
   "id": "5fa38aba",
   "metadata": {},
   "outputs": [
    {
     "name": "stdout",
     "output_type": "stream",
     "text": [
      "    Customer_ID  Income  Total_Amount\n",
      "10        19136     Low    363.927479\n",
      "11        66883  Medium    364.830567\n",
      "12        31930  Medium   1618.793610\n",
      "13        74671  Medium   3157.353142\n",
      "14        98300    High   1786.356235\n",
      "15        64995  Medium     71.171704\n"
     ]
    }
   ],
   "source": [
    "# Use iloc to select rows 10 to 15 and specific columns\n",
    "selected_data_iloc = df.iloc[10:16, [df.columns.get_loc('Customer_ID'), df.columns.get_loc('Income'), df.columns.get_loc('Total_Amount')]]\n",
    "\n",
    "# Display the selected data\n",
    "print(selected_data_iloc)\n"
   ]
  },
  {
   "cell_type": "markdown",
   "id": "22444ebc",
   "metadata": {},
   "source": [
    "# Group by Product_Brand and calculate total purchases for each brand"
   ]
  },
  {
   "cell_type": "code",
   "execution_count": 34,
   "id": "4ddf23bb",
   "metadata": {},
   "outputs": [
    {
     "name": "stdout",
     "output_type": "stream",
     "text": [
      "       Product_Brand  Total_Purchases\n",
      "0             Adidas          97468.0\n",
      "1              Apple          96366.0\n",
      "2   Bed Bath  Beyond          97404.0\n",
      "3           BlueStar          12008.0\n",
      "4           CocaCola          98271.0\n",
      "5      HarperCollins          97574.0\n",
      "6         Home Depot          97397.0\n",
      "7               IKEA          96363.0\n",
      "8         Mitsubhisi          36175.0\n",
      "9             Nestle          96774.0\n",
      "10              Nike          97804.0\n",
      "11     Penguin Books          97140.0\n",
      "12             Pepsi         162151.0\n",
      "13      Random House          97113.0\n",
      "14           Samsung          98752.0\n",
      "15              Sony          97932.0\n",
      "16           Unknown           1580.0\n",
      "17         Whirepool          40064.0\n",
      "18              Zara          98287.0\n"
     ]
    }
   ],
   "source": [
    "# Group by Product_Brand and calculate total purchases for each brand\n",
    "total_purchases_by_brand = df.groupby('Product_Brand')['Total_Purchases'].sum().reset_index()\n",
    "\n",
    "# Display the total purchases by brand\n",
    "print(total_purchases_by_brand)\n"
   ]
  },
  {
   "cell_type": "markdown",
   "id": "b27e3f24",
   "metadata": {},
   "source": [
    "# Rename columns"
   ]
  },
  {
   "cell_type": "code",
   "execution_count": 35,
   "id": "eae4f4ae",
   "metadata": {},
   "outputs": [
    {
     "name": "stdout",
     "output_type": "stream",
     "text": [
      "   Total_Spent  Purchases_Made\n",
      "0   324.086270             3.0\n",
      "1   806.707815             2.0\n",
      "2  1063.432799             3.0\n",
      "3  2466.854021             7.0\n",
      "4   248.553049             2.0\n"
     ]
    }
   ],
   "source": [
    "# Rename columns\n",
    "df_renamed = df.rename(columns={'Total_Amount': 'Total_Spent', 'Total_Purchases': 'Purchases_Made'})\n",
    "\n",
    "# Display the renamed columns\n",
    "print(df_renamed[['Total_Spent', 'Purchases_Made']].head())\n"
   ]
  },
  {
   "cell_type": "markdown",
   "id": "ac7b7e8b",
   "metadata": {},
   "source": [
    "# Use iloc to select the 3rd, 7th, and 10th rows and specific columns"
   ]
  },
  {
   "cell_type": "code",
   "execution_count": 36,
   "id": "ea31b447",
   "metadata": {},
   "outputs": [
    {
     "name": "stdout",
     "output_type": "stream",
     "text": [
      "   Customer_ID   Age  Income\n",
      "2        30192  48.0     Low\n",
      "6        97285  29.0     Low\n",
      "9        31878  25.0  Medium\n"
     ]
    }
   ],
   "source": [
    "# Use iloc to select the 3rd, 7th, and 10th rows and specific columns\n",
    "selected_rows = df.iloc[[2, 6, 9], [df.columns.get_loc('Customer_ID'), df.columns.get_loc('Age'), df.columns.get_loc('Income')]]\n",
    "\n",
    "# Display the selected rows\n",
    "print(selected_rows)\n"
   ]
  },
  {
   "cell_type": "markdown",
   "id": "ece36fe1",
   "metadata": {},
   "source": [
    "# Group by Gender and count the number of unique customers"
   ]
  },
  {
   "cell_type": "code",
   "execution_count": 37,
   "id": "acf8a729",
   "metadata": {},
   "outputs": [
    {
     "name": "stdout",
     "output_type": "stream",
     "text": [
      "    Gender  Customer_ID\n",
      "0   Female        64400\n",
      "1     Male        78598\n",
      "2  Unknown          317\n"
     ]
    }
   ],
   "source": [
    "# Group by Gender and count the number of unique customers\n",
    "customer_count_by_gender = df.groupby('Gender')['Customer_ID'].nunique().reset_index()\n",
    "\n",
    "# Display the customer count by gender\n",
    "print(customer_count_by_gender)\n"
   ]
  },
  {
   "cell_type": "markdown",
   "id": "02d84bd8",
   "metadata": {},
   "source": [
    "# Group by 'State' and calculate max and min of Total_Amount for each state"
   ]
  },
  {
   "cell_type": "code",
   "execution_count": 38,
   "id": "67ed36eb",
   "metadata": {},
   "outputs": [
    {
     "name": "stdout",
     "output_type": "stream",
     "text": [
      "Top 5 states by maximum Total_Amount:\n",
      "       State          max        min\n",
      "9   England  4999.625796  10.092966\n",
      "17   Kansas  4999.340097  11.392996\n",
      "39  Ontario  4999.171428  10.003750\n",
      "20    Maine  4998.723479  10.304530\n",
      "4    Berlin  4998.603558  10.063269\n"
     ]
    }
   ],
   "source": [
    "# Group by 'State' and calculate max and min of Total_Amount for each state\n",
    "max_min_total_by_state = df.groupby('State')['Total_Amount'].agg(['max', 'min']).reset_index()\n",
    "\n",
    "# Sort by max Total_Amount in descending order and display the top 5 states\n",
    "top_states_by_max_total = max_min_total_by_state.sort_values(by='max', ascending=False).head(5)\n",
    "\n",
    "# Display the top 5 states by max Total_Amount\n",
    "print(\"Top 5 states by maximum Total_Amount:\\n\", top_states_by_max_total)\n"
   ]
  },
  {
   "cell_type": "markdown",
   "id": "83d575ba",
   "metadata": {},
   "source": [
    "# Export Dataset"
   ]
  },
  {
   "cell_type": "code",
   "execution_count": 39,
   "id": "5ad4bfb6",
   "metadata": {},
   "outputs": [
    {
     "name": "stdout",
     "output_type": "stream",
     "text": [
      "Data exported successfully to 'cleaned_retail_data.csv'.\n"
     ]
    }
   ],
   "source": [
    "# Export the DataFrame to a CSV file\n",
    "df.to_csv('cleaned_retail_data.csv', index=False)\n",
    "\n",
    "# Confirm the export\n",
    "print(\"Data exported successfully to 'cleaned_retail_data.csv'.\")"
   ]
  },
  {
   "cell_type": "code",
   "execution_count": null,
   "id": "8fc1f23f",
   "metadata": {},
   "outputs": [],
   "source": []
  },
  {
   "cell_type": "code",
   "execution_count": null,
   "id": "837e53be",
   "metadata": {},
   "outputs": [],
   "source": []
  }
 ],
 "metadata": {
  "kernelspec": {
   "display_name": "Python 3 (ipykernel)",
   "language": "python",
   "name": "python3"
  },
  "language_info": {
   "codemirror_mode": {
    "name": "ipython",
    "version": 3
   },
   "file_extension": ".py",
   "mimetype": "text/x-python",
   "name": "python",
   "nbconvert_exporter": "python",
   "pygments_lexer": "ipython3",
   "version": "3.11.7"
  }
 },
 "nbformat": 4,
 "nbformat_minor": 5
}
