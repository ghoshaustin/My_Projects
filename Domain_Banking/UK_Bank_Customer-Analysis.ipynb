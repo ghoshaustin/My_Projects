{
 "cells": [
  {
   "cell_type": "markdown",
   "id": "dbe480f1",
   "metadata": {},
   "source": [
    "# Capstone Project (Banking Domain)\n",
    "                           Project Name: UK Bank Cusstomer Data Analysis\n",
    "                                         Prepared by: Bishowjith Ghosh\n",
    "                                              Date: September 2024\n",
    "                                      Master’s Program in Data Science"
   ]
  },
  {
   "cell_type": "markdown",
   "id": "f5726945",
   "metadata": {},
   "source": [
    "# Import Libraries And Dataset"
   ]
  },
  {
   "cell_type": "code",
   "execution_count": 1,
   "id": "ada77a60",
   "metadata": {},
   "outputs": [],
   "source": [
    "import pandas as pd \n",
    "import matplotlib.pyplot as plt\n",
    "import seaborn as sns\n",
    "import numpy as np\n",
    "import warnings\n",
    "warnings.filterwarnings(\"ignore\")"
   ]
  },
  {
   "cell_type": "code",
   "execution_count": 2,
   "id": "5adf4274",
   "metadata": {},
   "outputs": [
    {
     "data": {
      "text/html": [
       "<div>\n",
       "<style scoped>\n",
       "    .dataframe tbody tr th:only-of-type {\n",
       "        vertical-align: middle;\n",
       "    }\n",
       "\n",
       "    .dataframe tbody tr th {\n",
       "        vertical-align: top;\n",
       "    }\n",
       "\n",
       "    .dataframe thead th {\n",
       "        text-align: right;\n",
       "    }\n",
       "</style>\n",
       "<table border=\"1\" class=\"dataframe\">\n",
       "  <thead>\n",
       "    <tr style=\"text-align: right;\">\n",
       "      <th></th>\n",
       "      <th>Customer ID</th>\n",
       "      <th>Name</th>\n",
       "      <th>Surname</th>\n",
       "      <th>Gender</th>\n",
       "      <th>Age</th>\n",
       "      <th>Region</th>\n",
       "      <th>Job Classification</th>\n",
       "      <th>Date Joined</th>\n",
       "      <th>Balance</th>\n",
       "    </tr>\n",
       "  </thead>\n",
       "  <tbody>\n",
       "    <tr>\n",
       "      <th>0</th>\n",
       "      <td>100000001</td>\n",
       "      <td>Simon</td>\n",
       "      <td>Walsh</td>\n",
       "      <td>Male</td>\n",
       "      <td>21</td>\n",
       "      <td>England</td>\n",
       "      <td>White Collar</td>\n",
       "      <td>05.Jan.15</td>\n",
       "      <td>113810.15</td>\n",
       "    </tr>\n",
       "    <tr>\n",
       "      <th>1</th>\n",
       "      <td>400000002</td>\n",
       "      <td>Jasmine</td>\n",
       "      <td>Miller</td>\n",
       "      <td>Female</td>\n",
       "      <td>34</td>\n",
       "      <td>Northern Ireland</td>\n",
       "      <td>Blue Collar</td>\n",
       "      <td>06.Jan.15</td>\n",
       "      <td>36919.73</td>\n",
       "    </tr>\n",
       "    <tr>\n",
       "      <th>2</th>\n",
       "      <td>100000003</td>\n",
       "      <td>Liam</td>\n",
       "      <td>Brown</td>\n",
       "      <td>Male</td>\n",
       "      <td>46</td>\n",
       "      <td>England</td>\n",
       "      <td>White Collar</td>\n",
       "      <td>07.Jan.15</td>\n",
       "      <td>101536.83</td>\n",
       "    </tr>\n",
       "    <tr>\n",
       "      <th>3</th>\n",
       "      <td>300000004</td>\n",
       "      <td>Trevor</td>\n",
       "      <td>Parr</td>\n",
       "      <td>Male</td>\n",
       "      <td>32</td>\n",
       "      <td>Wales</td>\n",
       "      <td>White Collar</td>\n",
       "      <td>08.Jan.15</td>\n",
       "      <td>1421.52</td>\n",
       "    </tr>\n",
       "    <tr>\n",
       "      <th>4</th>\n",
       "      <td>100000005</td>\n",
       "      <td>Deirdre</td>\n",
       "      <td>Pullman</td>\n",
       "      <td>Female</td>\n",
       "      <td>38</td>\n",
       "      <td>England</td>\n",
       "      <td>Blue Collar</td>\n",
       "      <td>09.Jan.15</td>\n",
       "      <td>35639.79</td>\n",
       "    </tr>\n",
       "  </tbody>\n",
       "</table>\n",
       "</div>"
      ],
      "text/plain": [
       "   Customer ID     Name  Surname  Gender  Age            Region  \\\n",
       "0    100000001    Simon    Walsh    Male   21           England   \n",
       "1    400000002  Jasmine   Miller  Female   34  Northern Ireland   \n",
       "2    100000003     Liam    Brown    Male   46           England   \n",
       "3    300000004   Trevor     Parr    Male   32             Wales   \n",
       "4    100000005  Deirdre  Pullman  Female   38           England   \n",
       "\n",
       "  Job Classification Date Joined    Balance  \n",
       "0       White Collar   05.Jan.15  113810.15  \n",
       "1        Blue Collar   06.Jan.15   36919.73  \n",
       "2       White Collar   07.Jan.15  101536.83  \n",
       "3       White Collar   08.Jan.15    1421.52  \n",
       "4        Blue Collar   09.Jan.15   35639.79  "
      ]
     },
     "execution_count": 2,
     "metadata": {},
     "output_type": "execute_result"
    }
   ],
   "source": [
    "df = pd.read_csv(\"UK-Bank-Customers.csv\")\n",
    "df.head(5)"
   ]
  },
  {
   "cell_type": "markdown",
   "id": "ed2fa7cd",
   "metadata": {},
   "source": [
    "# Steps for Dataset Exploration"
   ]
  },
  {
   "cell_type": "code",
   "execution_count": 3,
   "id": "dbeb47c4",
   "metadata": {},
   "outputs": [
    {
     "name": "stdout",
     "output_type": "stream",
     "text": [
      "<class 'pandas.core.frame.DataFrame'>\n",
      "RangeIndex: 4014 entries, 0 to 4013\n",
      "Data columns (total 9 columns):\n",
      " #   Column              Non-Null Count  Dtype  \n",
      "---  ------              --------------  -----  \n",
      " 0   Customer ID         4014 non-null   int64  \n",
      " 1   Name                4014 non-null   object \n",
      " 2   Surname             4014 non-null   object \n",
      " 3   Gender              4014 non-null   object \n",
      " 4   Age                 4014 non-null   int64  \n",
      " 5   Region              4014 non-null   object \n",
      " 6   Job Classification  4014 non-null   object \n",
      " 7   Date Joined         4014 non-null   object \n",
      " 8   Balance             4014 non-null   float64\n",
      "dtypes: float64(1), int64(2), object(6)\n",
      "memory usage: 282.4+ KB\n"
     ]
    }
   ],
   "source": [
    "df.info()"
   ]
  },
  {
   "cell_type": "code",
   "execution_count": 4,
   "id": "36a741b3",
   "metadata": {},
   "outputs": [
    {
     "data": {
      "text/plain": [
       "Index(['Customer ID', 'Name', 'Surname', 'Gender', 'Age', 'Region',\n",
       "       'Job Classification', 'Date Joined', 'Balance'],\n",
       "      dtype='object')"
      ]
     },
     "execution_count": 4,
     "metadata": {},
     "output_type": "execute_result"
    }
   ],
   "source": [
    "df.columns"
   ]
  },
  {
   "cell_type": "code",
   "execution_count": 5,
   "id": "58ddcd0f",
   "metadata": {},
   "outputs": [
    {
     "data": {
      "text/html": [
       "<div>\n",
       "<style scoped>\n",
       "    .dataframe tbody tr th:only-of-type {\n",
       "        vertical-align: middle;\n",
       "    }\n",
       "\n",
       "    .dataframe tbody tr th {\n",
       "        vertical-align: top;\n",
       "    }\n",
       "\n",
       "    .dataframe thead th {\n",
       "        text-align: right;\n",
       "    }\n",
       "</style>\n",
       "<table border=\"1\" class=\"dataframe\">\n",
       "  <thead>\n",
       "    <tr style=\"text-align: right;\">\n",
       "      <th></th>\n",
       "      <th>Customer ID</th>\n",
       "      <th>Age</th>\n",
       "      <th>Balance</th>\n",
       "    </tr>\n",
       "  </thead>\n",
       "  <tbody>\n",
       "    <tr>\n",
       "      <th>count</th>\n",
       "      <td>4.014000e+03</td>\n",
       "      <td>4014.000000</td>\n",
       "      <td>4014.000000</td>\n",
       "    </tr>\n",
       "    <tr>\n",
       "      <th>mean</th>\n",
       "      <td>1.696831e+08</td>\n",
       "      <td>38.611111</td>\n",
       "      <td>39766.448274</td>\n",
       "    </tr>\n",
       "    <tr>\n",
       "      <th>std</th>\n",
       "      <td>8.865374e+07</td>\n",
       "      <td>9.819121</td>\n",
       "      <td>29859.489192</td>\n",
       "    </tr>\n",
       "    <tr>\n",
       "      <th>min</th>\n",
       "      <td>1.000000e+08</td>\n",
       "      <td>15.000000</td>\n",
       "      <td>11.520000</td>\n",
       "    </tr>\n",
       "    <tr>\n",
       "      <th>25%</th>\n",
       "      <td>1.000020e+08</td>\n",
       "      <td>31.000000</td>\n",
       "      <td>16115.367500</td>\n",
       "    </tr>\n",
       "    <tr>\n",
       "      <th>50%</th>\n",
       "      <td>1.000038e+08</td>\n",
       "      <td>37.000000</td>\n",
       "      <td>33567.330000</td>\n",
       "    </tr>\n",
       "    <tr>\n",
       "      <th>75%</th>\n",
       "      <td>2.000031e+08</td>\n",
       "      <td>45.000000</td>\n",
       "      <td>57533.930000</td>\n",
       "    </tr>\n",
       "    <tr>\n",
       "      <th>max</th>\n",
       "      <td>4.000038e+08</td>\n",
       "      <td>64.000000</td>\n",
       "      <td>183467.700000</td>\n",
       "    </tr>\n",
       "  </tbody>\n",
       "</table>\n",
       "</div>"
      ],
      "text/plain": [
       "        Customer ID          Age        Balance\n",
       "count  4.014000e+03  4014.000000    4014.000000\n",
       "mean   1.696831e+08    38.611111   39766.448274\n",
       "std    8.865374e+07     9.819121   29859.489192\n",
       "min    1.000000e+08    15.000000      11.520000\n",
       "25%    1.000020e+08    31.000000   16115.367500\n",
       "50%    1.000038e+08    37.000000   33567.330000\n",
       "75%    2.000031e+08    45.000000   57533.930000\n",
       "max    4.000038e+08    64.000000  183467.700000"
      ]
     },
     "execution_count": 5,
     "metadata": {},
     "output_type": "execute_result"
    }
   ],
   "source": [
    "df.describe()"
   ]
  },
  {
   "cell_type": "code",
   "execution_count": 6,
   "id": "8ddcdfbf",
   "metadata": {},
   "outputs": [
    {
     "name": "stdout",
     "output_type": "stream",
     "text": [
      "\n",
      "Shape of the Dataset (Rows, Columns):\n",
      "(4014, 9)\n"
     ]
    }
   ],
   "source": [
    "# Display the shape of the dataset (rows and columns)\n",
    "print(\"\\nShape of the Dataset (Rows, Columns):\")\n",
    "print(df.shape)"
   ]
  },
  {
   "cell_type": "markdown",
   "id": "62fe263f",
   "metadata": {},
   "source": [
    "# Check And Handle duplicate rows"
   ]
  },
  {
   "cell_type": "code",
   "execution_count": 7,
   "id": "34ed0982",
   "metadata": {},
   "outputs": [
    {
     "name": "stdout",
     "output_type": "stream",
     "text": [
      "0\n"
     ]
    }
   ],
   "source": [
    "print(df.duplicated().sum())"
   ]
  },
  {
   "cell_type": "code",
   "execution_count": 8,
   "id": "7c33f999",
   "metadata": {},
   "outputs": [],
   "source": [
    "# If dupilcate Presenet, remove duplicate rows (keep the first occurrence)\n",
    "# df_cleaned = df.drop_duplicates()\n",
    "\n",
    "# Verify that duplicates are removed\n",
    "# print(\"\\nShape of Dataset After Removing Duplicates:\")\n",
    "## print(df_cleaned.shape)"
   ]
  },
  {
   "cell_type": "markdown",
   "id": "db09714b",
   "metadata": {},
   "source": [
    "# Check And Handle Missing/Null Values"
   ]
  },
  {
   "cell_type": "code",
   "execution_count": 9,
   "id": "454592ee",
   "metadata": {},
   "outputs": [
    {
     "name": "stdout",
     "output_type": "stream",
     "text": [
      "\n",
      "Null Values in Each Column:\n",
      "Customer ID           0\n",
      "Name                  0\n",
      "Surname               0\n",
      "Gender                0\n",
      "Age                   0\n",
      "Region                0\n",
      "Job Classification    0\n",
      "Date Joined           0\n",
      "Balance               0\n",
      "dtype: int64\n"
     ]
    }
   ],
   "source": [
    "print(\"\\nNull Values in Each Column:\")\n",
    "print(df.isnull().sum())"
   ]
  },
  {
   "cell_type": "code",
   "execution_count": 10,
   "id": "90a5f862",
   "metadata": {},
   "outputs": [],
   "source": [
    "# IF missing value is present, handling Categorical Columns (e.g., 'Job Classification', 'Region')\n",
    "\n",
    "# 1. Fill missing values in categorical columns with 'Unknown'\n",
    "\n",
    "# df['Job Classification'].fillna('Unknown', inplace=True)\n",
    "# df['Region'].fillna('Unknown', inplace=True)\n",
    "\n",
    "# Alternatively, fill with the most frequent value (mode)\n",
    "# df['Job Classification'].fillna(df['Job Classification'].mode()[0], inplace=True)\n",
    "\n",
    "# 2 Handling Numerical Columns (e.g., 'Age', 'Balance')\n",
    "\n",
    "# Fill missing values in numerical columns with the median\n",
    "\n",
    "# df['Age'].fillna(df['Age'].median(), inplace=True)\n",
    "# df['Balance'].fillna(df['Balance'].median(), inplace=True)\n",
    "\n",
    "# Alternatively, fill with the mean\n",
    "# df['Age'].fillna(df['Age'].mean(), inplace=True)\n",
    "\n",
    "# 2.3 Handling Date Columns (e.g., 'Date Joined')\n",
    "# Option 1: Fill missing dates with a placeholder (e.g., today's date)\n",
    "# df['Date Joined'].fillna(pd.Timestamp.today(), inplace=True)\n",
    "\n",
    "# Option 2: Drop rows with missing dates if necessary\n",
    "# df.dropna(subset=['Date Joined'], inplace=True)\n",
    "\n",
    "# Step 3: Verify That Missing Values Are Handled\n",
    "# print(\"\\nMissing Values After Handling:\")\n",
    "# print(df.isnull().sum())"
   ]
  },
  {
   "cell_type": "markdown",
   "id": "ffeb49b6",
   "metadata": {},
   "source": [
    "# Check Unique Values"
   ]
  },
  {
   "cell_type": "code",
   "execution_count": 11,
   "id": "62349186",
   "metadata": {},
   "outputs": [
    {
     "name": "stdout",
     "output_type": "stream",
     "text": [
      "\n",
      "Unique Values in Categorical Columns:\n",
      "Name: 172 unique values\n",
      "Surname: 150 unique values\n",
      "Gender: 2 unique values\n",
      "Region: 4 unique values\n",
      "Job Classification: 3 unique values\n",
      "Date Joined: 307 unique values\n"
     ]
    }
   ],
   "source": [
    "print(\"\\nUnique Values in Categorical Columns:\")\n",
    "categorical_columns = df.select_dtypes(include=['object']).columns\n",
    "for col in categorical_columns:\n",
    "    print(f\"{col}: {df[col].nunique()} unique values\")"
   ]
  },
  {
   "cell_type": "markdown",
   "id": "60a93ac2",
   "metadata": {},
   "source": [
    "# Checking And Fixing Data Types"
   ]
  },
  {
   "cell_type": "code",
   "execution_count": 12,
   "id": "37a80b0f",
   "metadata": {},
   "outputs": [
    {
     "name": "stdout",
     "output_type": "stream",
     "text": [
      "\n",
      "Data Types of Each Column:\n",
      "Customer ID             int64\n",
      "Name                   object\n",
      "Surname                object\n",
      "Gender                 object\n",
      "Age                     int64\n",
      "Region                 object\n",
      "Job Classification     object\n",
      "Date Joined            object\n",
      "Balance               float64\n",
      "dtype: object\n"
     ]
    }
   ],
   "source": [
    "print(\"\\nData Types of Each Column:\")\n",
    "print(df.dtypes)"
   ]
  },
  {
   "cell_type": "code",
   "execution_count": 13,
   "id": "b9ccfb71",
   "metadata": {},
   "outputs": [
    {
     "data": {
      "text/html": [
       "<div>\n",
       "<style scoped>\n",
       "    .dataframe tbody tr th:only-of-type {\n",
       "        vertical-align: middle;\n",
       "    }\n",
       "\n",
       "    .dataframe tbody tr th {\n",
       "        vertical-align: top;\n",
       "    }\n",
       "\n",
       "    .dataframe thead th {\n",
       "        text-align: right;\n",
       "    }\n",
       "</style>\n",
       "<table border=\"1\" class=\"dataframe\">\n",
       "  <thead>\n",
       "    <tr style=\"text-align: right;\">\n",
       "      <th></th>\n",
       "      <th>Date Joined</th>\n",
       "    </tr>\n",
       "  </thead>\n",
       "  <tbody>\n",
       "    <tr>\n",
       "      <th>0</th>\n",
       "      <td>05.Jan.15</td>\n",
       "    </tr>\n",
       "    <tr>\n",
       "      <th>1</th>\n",
       "      <td>06.Jan.15</td>\n",
       "    </tr>\n",
       "    <tr>\n",
       "      <th>2</th>\n",
       "      <td>07.Jan.15</td>\n",
       "    </tr>\n",
       "    <tr>\n",
       "      <th>3</th>\n",
       "      <td>08.Jan.15</td>\n",
       "    </tr>\n",
       "    <tr>\n",
       "      <th>4</th>\n",
       "      <td>09.Jan.15</td>\n",
       "    </tr>\n",
       "  </tbody>\n",
       "</table>\n",
       "</div>"
      ],
      "text/plain": [
       "  Date Joined\n",
       "0   05.Jan.15\n",
       "1   06.Jan.15\n",
       "2   07.Jan.15\n",
       "3   08.Jan.15\n",
       "4   09.Jan.15"
      ]
     },
     "execution_count": 13,
     "metadata": {},
     "output_type": "execute_result"
    }
   ],
   "source": [
    "df[['Date Joined']].head()"
   ]
  },
  {
   "cell_type": "code",
   "execution_count": 14,
   "id": "11cefbea",
   "metadata": {},
   "outputs": [
    {
     "name": "stdout",
     "output_type": "stream",
     "text": [
      "\n",
      "Data Types After Conversion:\n",
      "Customer ID                    int64\n",
      "Name                          object\n",
      "Surname                       object\n",
      "Gender                        object\n",
      "Age                            int64\n",
      "Region                        object\n",
      "Job Classification            object\n",
      "Date Joined           datetime64[ns]\n",
      "Balance                      float64\n",
      "dtype: object\n",
      "\n",
      "First 5 rows with 'Date Joined' column:\n",
      "  Date Joined\n",
      "0  2015-01-05\n",
      "1  2015-01-06\n",
      "2  2015-01-07\n",
      "3  2015-01-08\n",
      "4  2015-01-09\n"
     ]
    }
   ],
   "source": [
    "# Convert 'Date Joined' column to datetime format\n",
    "df['Date Joined'] = pd.to_datetime(df['Date Joined'], format='%d.%b.%y', errors='coerce')\n",
    "\n",
    "# Check if the conversion worked\n",
    "print(\"\\nData Types After Conversion:\")\n",
    "print(df.dtypes)\n",
    "\n",
    "# Display first few rows to verify 'Date Joined' conversion\n",
    "print(\"\\nFirst 5 rows with 'Date Joined' column:\")\n",
    "print(df[['Date Joined']].head())"
   ]
  },
  {
   "cell_type": "markdown",
   "id": "e20d7076",
   "metadata": {},
   "source": [
    "# Outlier Detection and Handling"
   ]
  },
  {
   "cell_type": "code",
   "execution_count": 15,
   "id": "63d7a6d0",
   "metadata": {},
   "outputs": [
    {
     "name": "stdout",
     "output_type": "stream",
     "text": [
      "\n",
      "Outliers for Age:\n",
      "Empty DataFrame\n",
      "Columns: [Customer ID, Name, Surname, Gender, Age, Region, Job Classification, Date Joined, Balance]\n",
      "Index: []\n",
      "\n",
      "Outliers for Balance:\n",
      "      Customer ID       Name  Surname  Gender  Age    Region  \\\n",
      "5       300000006        Ava  Coleman  Female   30     Wales   \n",
      "119     100000120     Andrea  Dickens  Female   31   England   \n",
      "302     100000303      Brian  Russell    Male   42   England   \n",
      "403     100000404    Stewart     Bell    Male   38   England   \n",
      "462     200000463       Paul     Reid    Male   46  Scotland   \n",
      "...           ...        ...      ...     ...  ...       ...   \n",
      "3731    100003732      Faith     Ince  Female   34   England   \n",
      "3785    100003786      Gavin     Hart    Male   35   England   \n",
      "3831    100003832  Sebastian   Arnold    Male   44   England   \n",
      "3959    100003960    Michael    Poole    Male   33   England   \n",
      "3990    100003991        Sue  Cornish  Female   30   England   \n",
      "\n",
      "     Job Classification Date Joined    Balance  \n",
      "5           Blue Collar  2015-01-09  122443.77  \n",
      "119        White Collar  2015-03-31  136370.38  \n",
      "302         Blue Collar  2015-04-24  122903.78  \n",
      "403        White Collar  2015-05-07  120732.35  \n",
      "462         Blue Collar  2015-05-12  131848.63  \n",
      "...                 ...         ...        ...  \n",
      "3731       White Collar  2015-12-15  143879.62  \n",
      "3785       White Collar  2015-12-17  137981.62  \n",
      "3831        Blue Collar  2015-12-20  161517.82  \n",
      "3959       White Collar  2015-12-27  122294.27  \n",
      "3990       White Collar  2015-12-29  139784.01  \n",
      "\n",
      "[67 rows x 9 columns]\n"
     ]
    }
   ],
   "source": [
    "# Detecting outliers using IQR for 'Age' and 'Balance'\n",
    "\n",
    "# Define a function to calculate and detect outliers using IQR\n",
    "def detect_outliers(df, column):\n",
    "    Q1 = df[column].quantile(0.25)\n",
    "    Q3 = df[column].quantile(0.75)\n",
    "    IQR = Q3 - Q1\n",
    "    \n",
    "    lower_bound = Q1 - 1.5 * IQR\n",
    "    upper_bound = Q3 + 1.5 * IQR\n",
    "    \n",
    "    print(f\"\\nOutliers for {column}:\")\n",
    "    print(df[(df[column] < lower_bound) | (df[column] > upper_bound)])\n",
    "\n",
    "# Detect outliers in 'Age'\n",
    "detect_outliers(df, 'Age')\n",
    "\n",
    "# Detect outliers in 'Balance'\n",
    "detect_outliers(df, 'Balance')"
   ]
  },
  {
   "cell_type": "code",
   "execution_count": 16,
   "id": "d4cdc118",
   "metadata": {},
   "outputs": [
    {
     "data": {
      "text/plain": [
       "(4014, 9)"
      ]
     },
     "execution_count": 16,
     "metadata": {},
     "output_type": "execute_result"
    }
   ],
   "source": [
    "df.shape"
   ]
  },
  {
   "cell_type": "code",
   "execution_count": 17,
   "id": "400d8884",
   "metadata": {},
   "outputs": [
    {
     "name": "stdout",
     "output_type": "stream",
     "text": [
      "\n",
      "Shape of the dataset after removing outliers in 'Balance':\n",
      "(3947, 9)\n"
     ]
    }
   ],
   "source": [
    " # Remove Outliers\n",
    "    \n",
    "# Calculate IQR for 'Balance'\n",
    "Q1_balance = df['Balance'].quantile(0.25)\n",
    "Q3_balance = df['Balance'].quantile(0.75)\n",
    "IQR_balance = Q3_balance - Q1_balance\n",
    "\n",
    "# Define the bounds for outliers\n",
    "lower_bound_balance = Q1_balance - 1.5 * IQR_balance\n",
    "upper_bound_balance = Q3_balance + 1.5 * IQR_balance\n",
    "\n",
    "# Remove outliers from 'Balance' column\n",
    "df_clean = df[(df['Balance'] >= lower_bound_balance) & (df['Balance'] <= upper_bound_balance)]\n",
    "\n",
    "# Display the shape of the dataset after removing outliers\n",
    "print(\"\\nShape of the dataset after removing outliers in 'Balance':\")\n",
    "print(df_clean.shape)"
   ]
  },
  {
   "cell_type": "code",
   "execution_count": 18,
   "id": "58680f51",
   "metadata": {},
   "outputs": [],
   "source": [
    "# Option 2: Cap the Outliers : This will replace extreme values with a threshold (either the 1st percentile or 99th percentile)\n",
    "\n",
    "# Cap the outliers for 'Balance'\n",
    "# lower_cap = df['Balance'].quantile(0.01)  # 1st percentile\n",
    "# upper_cap = df['Balance'].quantile(0.99)  # 99th percentile\n",
    "\n",
    "# Apply capping\n",
    "# df['Balance'] = df['Balance'].apply(lambda x: lower_cap if x < lower_cap else (upper_cap if x > upper_cap else x))\n",
    "\n",
    "# Verify the changes\n",
    "# print(\"\\nShape of the dataset after capping outliers in 'Balance':\")\n",
    "# print(df.shape)"
   ]
  },
  {
   "cell_type": "markdown",
   "id": "40314f54",
   "metadata": {},
   "source": [
    "# Feature Engineering"
   ]
  },
  {
   "cell_type": "code",
   "execution_count": 19,
   "id": "fca5c00b",
   "metadata": {},
   "outputs": [
    {
     "name": "stdout",
     "output_type": "stream",
     "text": [
      "\n",
      "First 5 rows with 'Customer (Years)':\n"
     ]
    },
    {
     "data": {
      "text/html": [
       "<div>\n",
       "<style scoped>\n",
       "    .dataframe tbody tr th:only-of-type {\n",
       "        vertical-align: middle;\n",
       "    }\n",
       "\n",
       "    .dataframe tbody tr th {\n",
       "        vertical-align: top;\n",
       "    }\n",
       "\n",
       "    .dataframe thead th {\n",
       "        text-align: right;\n",
       "    }\n",
       "</style>\n",
       "<table border=\"1\" class=\"dataframe\">\n",
       "  <thead>\n",
       "    <tr style=\"text-align: right;\">\n",
       "      <th></th>\n",
       "      <th>Customer ID</th>\n",
       "      <th>Date Joined</th>\n",
       "      <th>Term(Years)</th>\n",
       "    </tr>\n",
       "  </thead>\n",
       "  <tbody>\n",
       "    <tr>\n",
       "      <th>0</th>\n",
       "      <td>100000001</td>\n",
       "      <td>2015-01-05</td>\n",
       "      <td>9.715068</td>\n",
       "    </tr>\n",
       "    <tr>\n",
       "      <th>1</th>\n",
       "      <td>400000002</td>\n",
       "      <td>2015-01-06</td>\n",
       "      <td>9.712329</td>\n",
       "    </tr>\n",
       "    <tr>\n",
       "      <th>2</th>\n",
       "      <td>100000003</td>\n",
       "      <td>2015-01-07</td>\n",
       "      <td>9.709589</td>\n",
       "    </tr>\n",
       "    <tr>\n",
       "      <th>3</th>\n",
       "      <td>300000004</td>\n",
       "      <td>2015-01-08</td>\n",
       "      <td>9.706849</td>\n",
       "    </tr>\n",
       "    <tr>\n",
       "      <th>4</th>\n",
       "      <td>100000005</td>\n",
       "      <td>2015-01-09</td>\n",
       "      <td>9.704110</td>\n",
       "    </tr>\n",
       "  </tbody>\n",
       "</table>\n",
       "</div>"
      ],
      "text/plain": [
       "   Customer ID Date Joined  Term(Years)\n",
       "0    100000001  2015-01-05     9.715068\n",
       "1    400000002  2015-01-06     9.712329\n",
       "2    100000003  2015-01-07     9.709589\n",
       "3    300000004  2015-01-08     9.706849\n",
       "4    100000005  2015-01-09     9.704110"
      ]
     },
     "execution_count": 19,
     "metadata": {},
     "output_type": "execute_result"
    }
   ],
   "source": [
    "#  Calculating Customer Tenure\n",
    "from datetime import datetime\n",
    "\n",
    "# Calculate the tenure of the customer in years\n",
    "df['Term(Years)'] = (datetime.now() - df['Date Joined']).dt.days / 365\n",
    "\n",
    "# Display the first few rows to verify\n",
    "print(\"\\nFirst 5 rows with 'Customer (Years)':\")\n",
    "df[['Customer ID', 'Date Joined', 'Term(Years)']].head()"
   ]
  },
  {
   "cell_type": "code",
   "execution_count": 20,
   "id": "a9c173d8",
   "metadata": {},
   "outputs": [
    {
     "name": "stdout",
     "output_type": "stream",
     "text": [
      "\n",
      "First 5 rows with 'Annual Average Balance':\n"
     ]
    },
    {
     "data": {
      "text/html": [
       "<div>\n",
       "<style scoped>\n",
       "    .dataframe tbody tr th:only-of-type {\n",
       "        vertical-align: middle;\n",
       "    }\n",
       "\n",
       "    .dataframe tbody tr th {\n",
       "        vertical-align: top;\n",
       "    }\n",
       "\n",
       "    .dataframe thead th {\n",
       "        text-align: right;\n",
       "    }\n",
       "</style>\n",
       "<table border=\"1\" class=\"dataframe\">\n",
       "  <thead>\n",
       "    <tr style=\"text-align: right;\">\n",
       "      <th></th>\n",
       "      <th>Customer ID</th>\n",
       "      <th>Balance</th>\n",
       "      <th>Annual Average Balance</th>\n",
       "    </tr>\n",
       "  </thead>\n",
       "  <tbody>\n",
       "    <tr>\n",
       "      <th>0</th>\n",
       "      <td>100000001</td>\n",
       "      <td>113810.15</td>\n",
       "      <td>11714.806754</td>\n",
       "    </tr>\n",
       "    <tr>\n",
       "      <th>1</th>\n",
       "      <td>400000002</td>\n",
       "      <td>36919.73</td>\n",
       "      <td>3801.326220</td>\n",
       "    </tr>\n",
       "    <tr>\n",
       "      <th>2</th>\n",
       "      <td>100000003</td>\n",
       "      <td>101536.83</td>\n",
       "      <td>10457.376679</td>\n",
       "    </tr>\n",
       "    <tr>\n",
       "      <th>3</th>\n",
       "      <td>300000004</td>\n",
       "      <td>1421.52</td>\n",
       "      <td>146.445047</td>\n",
       "    </tr>\n",
       "    <tr>\n",
       "      <th>4</th>\n",
       "      <td>100000005</td>\n",
       "      <td>35639.79</td>\n",
       "      <td>3672.649167</td>\n",
       "    </tr>\n",
       "  </tbody>\n",
       "</table>\n",
       "</div>"
      ],
      "text/plain": [
       "   Customer ID    Balance  Annual Average Balance\n",
       "0    100000001  113810.15            11714.806754\n",
       "1    400000002   36919.73             3801.326220\n",
       "2    100000003  101536.83            10457.376679\n",
       "3    300000004    1421.52              146.445047\n",
       "4    100000005   35639.79             3672.649167"
      ]
     },
     "execution_count": 20,
     "metadata": {},
     "output_type": "execute_result"
    }
   ],
   "source": [
    "# Annual Average Balance:\n",
    "# Calculate the annual average balance by dividing the balance by the number of years (Term)\n",
    "df['Annual Average Balance'] = df['Balance'] / df['Term(Years)']\n",
    "\n",
    "# Display the first few rows to verify\n",
    "print(\"\\nFirst 5 rows with 'Annual Average Balance':\")\n",
    "df[['Customer ID', 'Balance', 'Annual Average Balance']].head()"
   ]
  },
  {
   "cell_type": "markdown",
   "id": "2f3b0cd1",
   "metadata": {},
   "source": [
    "# Grouping and Aggregation \n"
   ]
  },
  {
   "cell_type": "markdown",
   "id": "d629bcc7",
   "metadata": {},
   "source": [
    "Let's group the customers by their Job Classification and analyze the average balance, average tenure, and other statistics."
   ]
  },
  {
   "cell_type": "code",
   "execution_count": 21,
   "id": "7cb07d61",
   "metadata": {},
   "outputs": [
    {
     "name": "stdout",
     "output_type": "stream",
     "text": [
      "\n",
      "Summary Statistics by Job Classification:\n"
     ]
    },
    {
     "data": {
      "text/html": [
       "<div>\n",
       "<style scoped>\n",
       "    .dataframe tbody tr th:only-of-type {\n",
       "        vertical-align: middle;\n",
       "    }\n",
       "\n",
       "    .dataframe tbody tr th {\n",
       "        vertical-align: top;\n",
       "    }\n",
       "\n",
       "    .dataframe thead th {\n",
       "        text-align: right;\n",
       "    }\n",
       "</style>\n",
       "<table border=\"1\" class=\"dataframe\">\n",
       "  <thead>\n",
       "    <tr style=\"text-align: right;\">\n",
       "      <th></th>\n",
       "      <th>Avg_Balance</th>\n",
       "      <th>Avg_Term</th>\n",
       "      <th>Count</th>\n",
       "    </tr>\n",
       "    <tr>\n",
       "      <th>Job Classification</th>\n",
       "      <th></th>\n",
       "      <th></th>\n",
       "      <th></th>\n",
       "    </tr>\n",
       "  </thead>\n",
       "  <tbody>\n",
       "    <tr>\n",
       "      <th>Blue Collar</th>\n",
       "      <td>39403.294090</td>\n",
       "      <td>9.074981</td>\n",
       "      <td>1049</td>\n",
       "    </tr>\n",
       "    <tr>\n",
       "      <th>Other</th>\n",
       "      <td>39824.341416</td>\n",
       "      <td>9.072022</td>\n",
       "      <td>1010</td>\n",
       "    </tr>\n",
       "    <tr>\n",
       "      <th>White Collar</th>\n",
       "      <td>39931.397974</td>\n",
       "      <td>9.068169</td>\n",
       "      <td>1955</td>\n",
       "    </tr>\n",
       "  </tbody>\n",
       "</table>\n",
       "</div>"
      ],
      "text/plain": [
       "                     Avg_Balance  Avg_Term  Count\n",
       "Job Classification                               \n",
       "Blue Collar         39403.294090  9.074981   1049\n",
       "Other               39824.341416  9.072022   1010\n",
       "White Collar        39931.397974  9.068169   1955"
      ]
     },
     "execution_count": 21,
     "metadata": {},
     "output_type": "execute_result"
    }
   ],
   "source": [
    "# Group by 'Job Classification' and calculate the mean balance and Term\n",
    "job_grouped = df.groupby('Job Classification').agg(\n",
    "    Avg_Balance=('Balance', 'mean'),\n",
    "    Avg_Term=('Term(Years)', 'mean'),\n",
    "    Count=('Customer ID', 'count')\n",
    ")\n",
    "\n",
    "# Display the summary statistics\n",
    "print(\"\\nSummary Statistics by Job Classification:\")\n",
    "job_grouped"
   ]
  },
  {
   "cell_type": "code",
   "execution_count": 22,
   "id": "37f8ace3",
   "metadata": {},
   "outputs": [
    {
     "name": "stdout",
     "output_type": "stream",
     "text": [
      "\n",
      "Summary Statistics by Region:\n"
     ]
    },
    {
     "data": {
      "text/html": [
       "<div>\n",
       "<style scoped>\n",
       "    .dataframe tbody tr th:only-of-type {\n",
       "        vertical-align: middle;\n",
       "    }\n",
       "\n",
       "    .dataframe tbody tr th {\n",
       "        vertical-align: top;\n",
       "    }\n",
       "\n",
       "    .dataframe thead th {\n",
       "        text-align: right;\n",
       "    }\n",
       "</style>\n",
       "<table border=\"1\" class=\"dataframe\">\n",
       "  <thead>\n",
       "    <tr style=\"text-align: right;\">\n",
       "      <th></th>\n",
       "      <th>Avg_Balance</th>\n",
       "      <th>Avg_Term</th>\n",
       "      <th>Count</th>\n",
       "    </tr>\n",
       "    <tr>\n",
       "      <th>Region</th>\n",
       "      <th></th>\n",
       "      <th></th>\n",
       "      <th></th>\n",
       "    </tr>\n",
       "  </thead>\n",
       "  <tbody>\n",
       "    <tr>\n",
       "      <th>England</th>\n",
       "      <td>39292.911996</td>\n",
       "      <td>9.060938</td>\n",
       "      <td>2159</td>\n",
       "    </tr>\n",
       "    <tr>\n",
       "      <th>Northern Ireland</th>\n",
       "      <td>39505.053981</td>\n",
       "      <td>9.161397</td>\n",
       "      <td>211</td>\n",
       "    </tr>\n",
       "    <tr>\n",
       "      <th>Scotland</th>\n",
       "      <td>39511.326263</td>\n",
       "      <td>9.064532</td>\n",
       "      <td>1124</td>\n",
       "    </tr>\n",
       "    <tr>\n",
       "      <th>Wales</th>\n",
       "      <td>42390.056269</td>\n",
       "      <td>9.089452</td>\n",
       "      <td>520</td>\n",
       "    </tr>\n",
       "  </tbody>\n",
       "</table>\n",
       "</div>"
      ],
      "text/plain": [
       "                   Avg_Balance  Avg_Term  Count\n",
       "Region                                         \n",
       "England           39292.911996  9.060938   2159\n",
       "Northern Ireland  39505.053981  9.161397    211\n",
       "Scotland          39511.326263  9.064532   1124\n",
       "Wales             42390.056269  9.089452    520"
      ]
     },
     "execution_count": 22,
     "metadata": {},
     "output_type": "execute_result"
    }
   ],
   "source": [
    "# Grouping by Region and Analyzing Balance\n",
    "# Group by 'Region' and calculate the mean balance and tenure\n",
    "region_grouped = df.groupby('Region').agg(\n",
    "    Avg_Balance=('Balance', 'mean'),\n",
    "    Avg_Term=('Term(Years)', 'mean'),\n",
    "    Count=('Customer ID', 'count')\n",
    ")\n",
    "\n",
    "# Display the summary statistics\n",
    "print(\"\\nSummary Statistics by Region:\")\n",
    "region_grouped"
   ]
  },
  {
   "cell_type": "markdown",
   "id": "af9847d5",
   "metadata": {},
   "source": [
    "# Visualizing Data"
   ]
  },
  {
   "cell_type": "code",
   "execution_count": 23,
   "id": "ce988e91",
   "metadata": {},
   "outputs": [
    {
     "data": {
      "image/png": "[encoded data removed]",
      "text/plain": [
       "<Figure size 1000x600 with 1 Axes>"
      ]
     },
     "metadata": {},
     "output_type": "display_data"
    }
   ],
   "source": [
    "# Bar plot for average balance by Job Classification\n",
    "job_grouped['Avg_Balance'].plot(kind='bar', figsize=(10, 6), color='skyblue')\n",
    "plt.title('Average Balance by Job Classification')\n",
    "plt.ylabel('Average Balance')\n",
    "plt.xlabel('Job Classification')\n",
    "plt.xticks(rotation=45)\n",
    "plt.show()"
   ]
  },
  {
   "cell_type": "code",
   "execution_count": 24,
   "id": "5a545913",
   "metadata": {},
   "outputs": [
    {
     "data": {
      "image/png": "[encoded data removed]",
      "text/plain": [
       "<Figure size 1000x600 with 1 Axes>"
      ]
     },
     "metadata": {},
     "output_type": "display_data"
    }
   ],
   "source": [
    "# Group data by region\n",
    "region_grouped = df.groupby('Region').agg(Avg_Balance=('Balance', 'mean'))\n",
    "\n",
    "# Plot average balance by region\n",
    "region_grouped.plot(kind='bar', figsize=(10, 6), color='lightgreen')\n",
    "plt.title('Average Balance by Region')\n",
    "plt.ylabel('Average Balance')\n",
    "plt.xlabel('Region')\n",
    "plt.xticks(rotation=45)\n",
    "plt.show()"
   ]
  },
  {
   "cell_type": "code",
   "execution_count": 25,
   "id": "d354963b",
   "metadata": {},
   "outputs": [
    {
     "data": {
      "image/png": "[encoded data removed]",
      "text/plain": [
       "<Figure size 1000x600 with 1 Axes>"
      ]
     },
     "metadata": {},
     "output_type": "display_data"
    }
   ],
   "source": [
    "# Distribution of Balance\n",
    "# Group by region and calculate average Term\n",
    "region_Term_grouped = df.groupby('Region').agg(Avg_Term=('Term(Years)', 'mean'))\n",
    "\n",
    "# Plot average tenure by region\n",
    "region_Term_grouped.plot(kind='bar', figsize=(10, 6), color='lightcoral')\n",
    "plt.title('Average Term by Region')\n",
    "plt.ylabel('Average Term(Years)')\n",
    "plt.xlabel('Region')\n",
    "plt.xticks(rotation=45)\n",
    "plt.show()\n"
   ]
  },
  {
   "cell_type": "code",
   "execution_count": 26,
   "id": "5a7b5da2",
   "metadata": {},
   "outputs": [
    {
     "name": "stdout",
     "output_type": "stream",
     "text": [
      "   Customer ID  Age     Age Group\n",
      "0    100000001   21         Young\n",
      "1    400000002   34  Early Career\n",
      "2    100000003   46   Experienced\n",
      "3    300000004   32  Early Career\n",
      "4    100000005   38    Mid Career\n"
     ]
    }
   ],
   "source": [
    "# Create the 'Age Group' column based on age conditions using vectorized operations\n",
    "df['Age Group'] = 'Senior'  # Default to 'Senior' for ages 60 and above\n",
    "\n",
    "# Assign the age groups based on conditions\n",
    "df.loc[df['Age'] < 25, 'Age Group'] = 'Young'\n",
    "df.loc[(df['Age'] >= 25) & (df['Age'] < 35), 'Age Group'] = 'Early Career'\n",
    "df.loc[(df['Age'] >= 35) & (df['Age'] < 45), 'Age Group'] = 'Mid Career'\n",
    "df.loc[(df['Age'] >= 45) & (df['Age'] < 60), 'Age Group'] = 'Experienced'\n",
    "\n",
    "# Display the first few rows to verify the age group assignment\n",
    "print(df[['Customer ID', 'Age', 'Age Group']].head())\n"
   ]
  },
  {
   "cell_type": "code",
   "execution_count": 27,
   "id": "7e7507cc",
   "metadata": {},
   "outputs": [
    {
     "data": {
      "image/png": "[encoded data removed]",
      "text/plain": [
       "<Figure size 800x600 with 1 Axes>"
      ]
     },
     "metadata": {},
     "output_type": "display_data"
    }
   ],
   "source": [
    "# Simple bar plot to show the number of customers in each Age Group\n",
    "plt.figure(figsize=(8, 6))\n",
    "sns.countplot(x='Age Group', data=df, palette='Set2')\n",
    "plt.title('Customer Distribution by Age Group')\n",
    "plt.xlabel('Age Group')\n",
    "plt.ylabel('Number of Customers')\n",
    "plt.xticks(rotation=45)\n",
    "plt.show()"
   ]
  },
  {
   "cell_type": "code",
   "execution_count": 28,
   "id": "12fc697b",
   "metadata": {},
   "outputs": [
    {
     "name": "stdout",
     "output_type": "stream",
     "text": [
      "25th Percentile Balance: 16115.3675\n",
      "Median Balance: 33567.33\n",
      "75th Percentile Balance: 57533.93\n"
     ]
    }
   ],
   "source": [
    "# Calculate the 25th, 50th (median), and 75th percentiles of customer balances\n",
    "balance_25th = np.percentile(df['Balance'], 25)\n",
    "balance_median = np.percentile(df['Balance'], 50)\n",
    "balance_75th = np.percentile(df['Balance'], 75)\n",
    "\n",
    "# Display the results\n",
    "print(\"25th Percentile Balance:\", balance_25th)\n",
    "print(\"Median Balance:\", balance_median)\n",
    "print(\"75th Percentile Balance:\", balance_75th)"
   ]
  },
  {
   "cell_type": "code",
   "execution_count": 29,
   "id": "790a2539",
   "metadata": {},
   "outputs": [
    {
     "data": {
      "image/png": "[encoded data removed]",
      "text/plain": [
       "<Figure size 800x800 with 1 Axes>"
      ]
     },
     "metadata": {},
     "output_type": "display_data"
    }
   ],
   "source": [
    "# Customer Count by Job Classification\n",
    "# Group by Job Classification and calculate count\n",
    "job_grouped = df['Job Classification'].value_counts()\n",
    "\n",
    "# Plot pie chart of job classification\n",
    "job_grouped.plot(kind='pie', autopct='%1.1f%%', figsize=(8, 8), startangle=90)\n",
    "plt.title('Customer Distribution by Job Classification')\n",
    "plt.ylabel('')  # Hide the y-label for a cleaner pie chart\n",
    "plt.show()"
   ]
  },
  {
   "cell_type": "code",
   "execution_count": 30,
   "id": "d8796979",
   "metadata": {},
   "outputs": [
    {
     "data": {
      "image/png": "[encoded data removed]",
      "text/plain": [
       "<Figure size 1000x600 with 1 Axes>"
      ]
     },
     "metadata": {},
     "output_type": "display_data"
    }
   ],
   "source": [
    "# Distribution of Balance\n",
    "# Plot the distribution of Balance\n",
    "plt.figure(figsize=(10, 6))\n",
    "sns.histplot(df['Balance'], bins=30, kde=True, color='blue')\n",
    "plt.title('Distribution of Customer Balance')\n",
    "plt.xlabel('Balance')\n",
    "plt.ylabel('Number of Customers')\n",
    "plt.show()"
   ]
  },
  {
   "cell_type": "code",
   "execution_count": 33,
   "id": "5669e4d0",
   "metadata": {},
   "outputs": [
    {
     "name": "stdout",
     "output_type": "stream",
     "text": [
      "Export successful\n"
     ]
    }
   ],
   "source": [
    "# Export file\n",
    "df.to_csv('Cleaned_UK_Bank_Customer-Analysis.csv', index=False)\n",
    "print(\"Export successful\")"
   ]
  }
 ],
 "metadata": {
  "kernelspec": {
   "display_name": "Python 3 (ipykernel)",
   "language": "python",
   "name": "python3"
  },
  "language_info": {
   "codemirror_mode": {
    "name": "ipython",
    "version": 3
   },
   "file_extension": ".py",
   "mimetype": "text/x-python",
   "name": "python",
   "nbconvert_exporter": "python",
   "pygments_lexer": "ipython3",
   "version": "3.11.7"
  }
 },
 "nbformat": 4,
 "nbformat_minor": 5
}
