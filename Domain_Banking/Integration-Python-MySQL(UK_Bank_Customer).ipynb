{
 "cells": [
  {
   "cell_type": "code",
   "execution_count": 1,
   "id": "8e7e90e8",
   "metadata": {},
   "outputs": [
    {
     "name": "stdout",
     "output_type": "stream",
     "text": [
      "Connected to MySQL database\n",
      "Table 'customers' created successfully.\n",
      "1 rows inserted successfully into 'customers' table.\n",
      "MySQL connection closed.\n"
     ]
    }
   ],
   "source": [
    "import mysql.connector\n",
    "import pandas as pd\n",
    "\n",
    "# Load your dataset\n",
    "file_path = 'Cleaned_UK_Bank_Customer-Analysis.csv'  # Replace with your actual file path\n",
    "df = pd.read_csv(file_path)\n",
    "\n",
    "# Connect to MySQL\n",
    "connection = mysql.connector.connect(\n",
    "    host=\"localhost\",      # Your MySQL host\n",
    "    user=\"root\",           # Your MySQL username\n",
    "    password=\"9345\",       # Your MySQL password\n",
    "    database=\"uk_Bank_Customer\"  # Name of your database\n",
    ")\n",
    "\n",
    "# Check if the connection is successful\n",
    "if connection.is_connected():\n",
    "    print(\"Connected to MySQL database\")\n",
    "\n",
    "# Create a cursor object to interact with the MySQL database\n",
    "cursor = connection.cursor()\n",
    "\n",
    "# SQL query to create the table (if it doesn't exist)\n",
    "create_table_query = \"\"\"\n",
    "CREATE TABLE IF NOT EXISTS customers (\n",
    "    customer_id INT PRIMARY KEY,\n",
    "    name VARCHAR(100),\n",
    "    surname VARCHAR(100),\n",
    "    gender VARCHAR(10),\n",
    "    age INT,\n",
    "    region VARCHAR(100),\n",
    "    job_classification VARCHAR(100),\n",
    "    date_joined DATE,\n",
    "    balance FLOAT\n",
    ");\n",
    "\"\"\"\n",
    "cursor.execute(create_table_query)\n",
    "print(\"Table 'customers' created successfully.\")\n",
    "\n",
    "# Prepare the insert query\n",
    "insert_query = \"\"\"\n",
    "INSERT INTO customers (customer_id, name, surname, gender, age, region, job_classification, date_joined, balance)\n",
    "VALUES (%s, %s, %s, %s, %s, %s, %s, %s, %s)\n",
    "\"\"\"\n",
    "\n",
    "# Insert data from the DataFrame into the MySQL table\n",
    "for _, row in df.iterrows():\n",
    "    cursor.execute(insert_query, (\n",
    "        int(row['Customer ID']),\n",
    "        row['Name'],\n",
    "        row['Surname'],\n",
    "        row['Gender'],\n",
    "        int(row['Age']),\n",
    "        row['Region'],\n",
    "        row['Job Classification'],\n",
    "        row['Date Joined'],\n",
    "        float(row['Balance'])\n",
    "    ))\n",
    "\n",
    "# Commit the transaction\n",
    "connection.commit()\n",
    "\n",
    "print(f\"{cursor.rowcount} rows inserted successfully into 'customers' table.\")\n",
    "\n",
    "# Close the cursor and the connection\n",
    "cursor.close()\n",
    "connection.close()\n",
    "print(\"MySQL connection closed.\")\n"
   ]
  }
 ],
 "metadata": {
  "kernelspec": {
   "display_name": "Python 3 (ipykernel)",
   "language": "python",
   "name": "python3"
  },
  "language_info": {
   "codemirror_mode": {
    "name": "ipython",
    "version": 3
   },
   "file_extension": ".py",
   "mimetype": "text/x-python",
   "name": "python",
   "nbconvert_exporter": "python",
   "pygments_lexer": "ipython3",
   "version": "3.11.7"
  }
 },
 "nbformat": 4,
 "nbformat_minor": 5
}
