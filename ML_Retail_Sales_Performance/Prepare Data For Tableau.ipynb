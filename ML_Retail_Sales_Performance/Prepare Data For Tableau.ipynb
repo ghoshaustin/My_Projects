{
 "cells": [
  {
   "cell_type": "code",
   "execution_count": 6,
   "id": "e8b31f83",
   "metadata": {},
   "outputs": [
    {
     "name": "stdout",
     "output_type": "stream",
     "text": [
      "   Customer_ID     Customer_Name  Age  Gender  Annual_Income  Spending_Score  \\\n",
      "0            1       John Wilson   40    Male          87527               1   \n",
      "1            2       Laura Stein   57  Female          75867              64   \n",
      "2            3  Zachary Phillips   53    Male          76722              34   \n",
      "3            4    Jose Dominguez   26  Female         142248              30   \n",
      "4            5      Brent Thomas   50  Female         132721              31   \n",
      "\n",
      "  Marital_Status Product_Category  Years_as_Customer  Number_of_Transactions  \\\n",
      "0         Single        Groceries                 15                      94   \n",
      "1         Single         Clothing                  1                      72   \n",
      "2        Married        Groceries                 13                      13   \n",
      "3        Married           Sports                  3                      57   \n",
      "4        Married             Home                 13                      56   \n",
      "\n",
      "   Average_Transaction_Amount Loyalty_Card Discount_Avail  \\\n",
      "0                      314.40           No            Yes   \n",
      "1                      627.46           No             No   \n",
      "2                      984.19           No             No   \n",
      "3                      182.25          Yes            Yes   \n",
      "4                      689.82           No             No   \n",
      "\n",
      "  Preferred_Shopping_Channel Customer_Segment Income_Bin     Age_Bin  \n",
      "0                     Online        Low Value        Mid  Middle Age  \n",
      "1                     Online        Low Value        Mid      Senior  \n",
      "2                     Online     Medium Value        Mid      Senior  \n",
      "3                     Online        Low Value       High       Youth  \n",
      "4                     Online       High Value       High      Senior  \n"
     ]
    }
   ],
   "source": [
    "import pandas as pd\n",
    "\n",
    "# Load the dataset\n",
    "df = pd.read_csv(\"Retail_sales_dataset.csv\")\n",
    "\n",
    "# Handle missing values (if any)\n",
    "df.fillna(df.mean(numeric_only=True), inplace=True)\n",
    "\n",
    "# Convert 'Customer_Segment' and other relevant columns to categorical if necessary\n",
    "df['Customer_Segment'] = df['Customer_Segment'].astype('category')\n",
    "df['Product_Category'] = df['Product_Category'].astype('category')\n",
    "df['Preferred_Shopping_Channel'] = df['Preferred_Shopping_Channel'].astype('category')\n",
    "df['Marital_Status'] = df['Marital_Status'].astype('category')\n",
    "\n",
    "# Create income bins and age bins for analysis\n",
    "df['Income_Bin'] = pd.cut(df['Annual_Income'], bins=5, labels=['Low', 'Lower-Mid', 'Mid', 'Upper-Mid', 'High'])\n",
    "df['Age_Bin'] = pd.cut(df['Age'], bins=5, labels=['Youth', 'Young Adult', 'Middle Age', 'Senior', 'Elder'])\n",
    "\n",
    "# Convert numerical values to categorical\n",
    "df['Gender'] = df['Gender'].replace({0: 'Female', 1: 'Male'})\n",
    "df['Marital_Status'] = df['Marital_Status'].replace({0: 'Single', 1: 'Married'})\n",
    "df['Loyalty_Card'] = df['Loyalty_Card'].replace({0: 'No', 1: 'Yes'})\n",
    "df['Discount_Avail'] = df['Discount_Avail'].replace({0: 'No', 1: 'Yes'})\n",
    "df['Customer_Segment'] = df['Customer_Segment'].replace({0: 'Low Value', 1: 'Medium Value', 2: 'High Value'})\n",
    "\n",
    "# Check data before export\n",
    "print(df.head())\n",
    "\n"
   ]
  },
  {
   "cell_type": "code",
   "execution_count": 8,
   "id": "8214f18d",
   "metadata": {},
   "outputs": [],
   "source": [
    "# Export to CSV for Tableau\n",
    "df.to_csv('Retail_sales_prepared_for_Tableau.csv', index=False)"
   ]
  }
 ],
 "metadata": {
  "kernelspec": {
   "display_name": "Python 3 (ipykernel)",
   "language": "python",
   "name": "python3"
  },
  "language_info": {
   "codemirror_mode": {
    "name": "ipython",
    "version": 3
   },
   "file_extension": ".py",
   "mimetype": "text/x-python",
   "name": "python",
   "nbconvert_exporter": "python",
   "pygments_lexer": "ipython3",
   "version": "3.11.7"
  }
 },
 "nbformat": 4,
 "nbformat_minor": 5
}
